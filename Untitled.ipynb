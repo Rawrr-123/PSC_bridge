{
 "cells": [
  {
   "cell_type": "code",
   "execution_count": 1,
   "id": "c4722886",
   "metadata": {},
   "outputs": [],
   "source": [
    "import pandas as pd\n",
    "import matplotlib.pyplot as plt\n",
    "\n",
    "from Cross import Cross_section,cables, expansion_calc"
   ]
  },
  {
   "cell_type": "code",
   "execution_count": 2,
   "id": "47ace749",
   "metadata": {},
   "outputs": [],
   "source": [
    "def show_section(section, opening, off):\n",
    "    f, ax = plt.subplots(figsize = (16,6))\n",
    "    \n",
    "    coord_out = [\n",
    "        section.position[0],\n",
    "        [section.position[0][0], section.position[0][1]+section.height[0]-section.height[4]-section.height[6]],\n",
    "        section.position[4],\n",
    "        [section.position[4][0], section.position[4][1]+section.height[4]],\n",
    "        [section.position[5][0]+section.length[5], section.position[5][1]+section.height[5]],\n",
    "        [section.position[5][0]+section.length[5], section.position[5][1]],\n",
    "        section.position[7],\n",
    "        [section.position[1][0]+section.length[1], section.position[1][1]],\n",
    "        section.position[0]\n",
    "    ]\n",
    "    x, y = zip(*coord_out)\n",
    "    \n",
    "    coord_in = [\n",
    "        [section.position[10][0], section.position[10][1]+section.height[10]],\n",
    "        section.position[8],\n",
    "        [section.position[8][0]+section.length[8], section.position[8][1]+section.height[8]],\n",
    "        [section.position[9][0], section.position[9][1]+section.height[9]],\n",
    "        [section.position[9][0]+section.length[9], section.position[9][1]],\n",
    "        [section.position[11][0]+section.length[11], section.position[11][1]+section.height[11]],\n",
    "        section.position[11],\n",
    "        [section.position[10][0]+section.length[10], section.position[10][1]],\n",
    "        [section.position[10][0], section.position[10][1]+section.height[10]]\n",
    "    ]\n",
    "    a, b = zip(*coord_in)\n",
    "    \n",
    "    c, d = zip(*section.cable_prop)\n",
    "    \n",
    "    coord_diap = [\n",
    "        [section.position[2][0]+section.length[2]/2-opening[0]/2, off],\n",
    "        [section.position[2][0]+section.length[2]/2-opening[0]/2, off+opening[1]],\n",
    "        [section.position[2][0]+section.length[2]/2+opening[0]/2, off+opening[1]],\n",
    "        [section.position[2][0]+section.length[2]/2+opening[0]/2, off],\n",
    "        [section.position[2][0]+section.length[2]/2-opening[0]/2, off],\n",
    "    ]\n",
    "    \n",
    "    e, f = zip(*coord_diap)\n",
    "    \n",
    "    ax.plot(x,y)\n",
    "    ax.plot(a,b)\n",
    "    ax.scatter(c,d)\n",
    "    ax.plot(e,f)"
   ]
  },
  {
   "cell_type": "markdown",
   "id": "86d642be",
   "metadata": {},
   "source": [
    "Defining sections"
   ]
  },
  {
   "cell_type": "code",
   "execution_count": 3,
   "id": "aa920ed2",
   "metadata": {},
   "outputs": [],
   "source": [
    "lengthend = [0.6, 0.6, 4.4, 4.4, 1.8, 1.8, 1.8, 1.8, 0.45, 0.45, 0.45, 0.45]\n",
    "heightend = [3.5, 3.5, 0.4, 0.35, 0.15, 0.15, 0.3, 0.3, 0.15, 0.15, 0.15, 0.15]\n",
    "cable_posend = [[0.3, 0.65],\n",
    " [0.3, 1.05],\n",
    " [0.3, 1.45],\n",
    " [0.3, 1.85],\n",
    " [0.3, 2.25],\n",
    " [5.3, 0.65],\n",
    " [5.3, 1.05],\n",
    " [5.3, 1.45],\n",
    " [5.3, 1.85],\n",
    " [5.3, 2.25],\n",
    " [0.925, 0.25],\n",
    " [1.55, 0.25],\n",
    " [2.175, 0.25],\n",
    " [2.8, 0.25],\n",
    " [3.425, 0.25],\n",
    " [4.05, 0.25],\n",
    " [4.675, 0.25]]\n",
    "\n",
    "section_end = Cross_section(lengthend, heightend)\n",
    "section_end.cable_prop = cable_posend"
   ]
  },
  {
   "cell_type": "code",
   "execution_count": 4,
   "id": "d1d4491d",
   "metadata": {},
   "outputs": [],
   "source": [
    "lengthmid = [0.3, 0.3, 4.7, 4.7, 1.95, 1.95, 1.95, 1.95, 0.45, 0.45, 0.45, 0.45]\n",
    "heightmid = [3.5, 3.5, 0.25, 0.25, 0.15, 0.15, 0.3, 0.3, 0.15, 0.15, 0.15, 0.15]\n",
    "cable_posmid = [\n",
    "    [0.15, 0.285],\n",
    "    [0.15, 0.445],\n",
    "    [0.15, 0.605],\n",
    "    [0.15, 0.765],\n",
    "    [0.15, 0.925],\n",
    "    [5.15, 0.285],\n",
    "    [5.15, 0.445],\n",
    "    [5.15, 0.605],\n",
    "    [5.15, 0.765],\n",
    "    [5.15, 0.925],\n",
    "    [0.775, 0.125],\n",
    "    [1.4, 0.125],\n",
    "    [2.025, 0.125],\n",
    "    [2.65, 0.125],\n",
    "    [3.275, 0.125],\n",
    "    [3.9, 0.125],\n",
    "    [4.525, 0.125]\n",
    "]\n",
    "\n",
    "section_mid = Cross_section(lengthmid, heightmid)\n",
    "section_mid.cable_prop = cable_posmid"
   ]
  },
  {
   "cell_type": "code",
   "execution_count": 5,
   "id": "0326cb38",
   "metadata": {},
   "outputs": [
    {
     "data": {
      "text/plain": [
       "['left Pillar',\n",
       " 'right pillar',\n",
       " 'bottom slab',\n",
       " 'top slab',\n",
       " 'left cantilever',\n",
       " 'right cantilever',\n",
       " 'left triangle',\n",
       " 'right triangle',\n",
       " 'left top fillet',\n",
       " 'right top fillet',\n",
       " 'left bottom fillet',\n",
       " 'right bottom fillet']"
      ]
     },
     "execution_count": 5,
     "metadata": {},
     "output_type": "execute_result"
    }
   ],
   "source": [
    "section_end.name"
   ]
  },
  {
   "cell_type": "code",
   "execution_count": 5,
   "id": "4c6c619e",
   "metadata": {},
   "outputs": [
    {
     "data": {
      "image/png": "[encoded data removed]",
      "text/plain": [
       "<Figure size 1152x432 with 1 Axes>"
      ]
     },
     "metadata": {
      "needs_background": "light"
     },
     "output_type": "display_data"
    },
    {
     "data": {
      "image/png": "[encoded data removed]",
      "text/plain": [
       "<Figure size 1152x432 with 1 Axes>"
      ]
     },
     "metadata": {
      "needs_background": "light"
     },
     "output_type": "display_data"
    }
   ],
   "source": [
    "show_section(section_end, (1.2, 1), 0.75)\n",
    "show_section(section_mid, (1.2, 1), 0.75)"
   ]
  },
  {
   "cell_type": "markdown",
   "id": "0e935df9",
   "metadata": {},
   "source": [
    "dl"
   ]
  },
  {
   "cell_type": "code",
   "execution_count": 6,
   "id": "5b608209",
   "metadata": {},
   "outputs": [
    {
     "data": {
      "text/plain": [
       "143.87500000000006"
      ]
     },
     "execution_count": 6,
     "metadata": {},
     "output_type": "execute_result"
    }
   ],
   "source": [
    "sum(section_mid.section_area)*25 #dl due to mid"
   ]
  },
  {
   "cell_type": "code",
   "execution_count": 7,
   "id": "57ee9d91",
   "metadata": {},
   "outputs": [
    {
     "data": {
      "text/plain": [
       "73.99999999999984"
      ]
     },
     "execution_count": 7,
     "metadata": {},
     "output_type": "execute_result"
    }
   ],
   "source": [
    "(sum(section_end.section_area) - sum(section_mid.section_area))*25 #dl due to expansion"
   ]
  },
  {
   "cell_type": "markdown",
   "id": "c7ad1d03",
   "metadata": {},
   "source": [
    "transverse position of ll"
   ]
  },
  {
   "cell_type": "code",
   "execution_count": 8,
   "id": "54ff65e7",
   "metadata": {},
   "outputs": [],
   "source": [
    "import irc6_2007 as irc6"
   ]
  },
  {
   "cell_type": "code",
   "execution_count": 9,
   "id": "efb3a07c",
   "metadata": {},
   "outputs": [],
   "source": [
    "cw1 = irc6.Combination(0,0,1, 6)"
   ]
  },
  {
   "cell_type": "code",
   "execution_count": 10,
   "id": "c4d3f572",
   "metadata": {},
   "outputs": [],
   "source": [
    "arr1 = cw1.arrangements()"
   ]
  },
  {
   "cell_type": "code",
   "execution_count": 11,
   "id": "1cbb0970",
   "metadata": {
    "scrolled": false
   },
   "outputs": [
    {
     "data": {
      "image/png": "[encoded data removed]",
      "text/plain": [
       "<Figure size 864x360 with 1 Axes>"
      ]
     },
     "metadata": {
      "needs_background": "light"
     },
     "output_type": "display_data"
    }
   ],
   "source": [
    "ax = arr1[0].plot_signal()"
   ]
  },
  {
   "cell_type": "code",
   "execution_count": 12,
   "id": "039c76f3",
   "metadata": {},
   "outputs": [],
   "source": [
    "imp = irc6.impact(loading = 'Class 70RT', span = 60, material = 'RCC')"
   ]
  },
  {
   "cell_type": "code",
   "execution_count": 13,
   "id": "82f989ba",
   "metadata": {},
   "outputs": [
    {
     "data": {
      "text/plain": [
       "6.3619753238911825"
      ]
     },
     "execution_count": 13,
     "metadata": {},
     "output_type": "execute_result"
    }
   ],
   "source": [
    "irc6.ped_ll(60, 1.6)"
   ]
  },
  {
   "cell_type": "markdown",
   "id": "c27af287",
   "metadata": {},
   "source": [
    "cable profile"
   ]
  },
  {
   "cell_type": "code",
   "execution_count": 14,
   "id": "fb73faf6",
   "metadata": {},
   "outputs": [],
   "source": [
    "def cable_layered(cable_pos):\n",
    "    cpx, cpy = zip(*cable_pos)\n",
    "    cab_y = sorted(list(set(cpy)))\n",
    "    return cab_y"
   ]
  },
  {
   "cell_type": "code",
   "execution_count": 15,
   "id": "b0b83188",
   "metadata": {},
   "outputs": [],
   "source": [
    "def cable_profile(end_cable_pos, mid_cable_pos, span_length, division=100):\n",
    "    cable_profile = []\n",
    "    x = [(j)/division*span_length for j in range(division+1)]\n",
    "    endcab = cable_layered(end_cable_pos) #[y1, y2, y3]\n",
    "    midcab = cable_layered(mid_cable_pos)#[y, y]\n",
    "    for i in range(len(endcab)):\n",
    "        cable_pos_l = [] # in layer\n",
    "        for j in x:\n",
    "            h = endcab[i]-midcab[i]\n",
    "            a = endcab[i]\n",
    "            y = a - 4*h*j/span_length + 4*h*j**2/span_length**2\n",
    "            cable_pos_l.append((j, y))\n",
    "        cable_profile.append(cable_pos_l)\n",
    "    return cable_profile"
   ]
  },
  {
   "cell_type": "code",
   "execution_count": 24,
   "id": "4437880e",
   "metadata": {},
   "outputs": [
    {
     "data": {
      "text/plain": [
       "[[(0.0, 0.25),\n",
       "  (7.5, 0.1953125),\n",
       "  (15.0, 0.15625),\n",
       "  (22.5, 0.1328125),\n",
       "  (30.0, 0.125),\n",
       "  (37.5, 0.1328125),\n",
       "  (45.0, 0.15625),\n",
       "  (52.5, 0.1953125),\n",
       "  (60.0, 0.25)],\n",
       " [(0.0, 0.65),\n",
       "  (7.5, 0.49031250000000004),\n",
       "  (15.0, 0.37625),\n",
       "  (22.5, 0.30781250000000004),\n",
       "  (30.0, 0.285),\n",
       "  (37.5, 0.30781250000000004),\n",
       "  (45.0, 0.3762500000000002),\n",
       "  (52.5, 0.49031250000000004),\n",
       "  (60.0, 0.65)],\n",
       " [(0.0, 1.05),\n",
       "  (7.5, 0.7853125000000001),\n",
       "  (15.0, 0.5962500000000001),\n",
       "  (22.5, 0.4828125000000001),\n",
       "  (30.0, 0.44500000000000006),\n",
       "  (37.5, 0.4828125000000001),\n",
       "  (45.0, 0.5962500000000002),\n",
       "  (52.5, 0.7853124999999999),\n",
       "  (60.0, 1.05)],\n",
       " [(0.0, 1.45),\n",
       "  (7.5, 1.0803124999999998),\n",
       "  (15.0, 0.8162499999999999),\n",
       "  (22.5, 0.6578125000000001),\n",
       "  (30.0, 0.605),\n",
       "  (37.5, 0.6578125000000001),\n",
       "  (45.0, 0.8162500000000004),\n",
       "  (52.5, 1.0803125),\n",
       "  (60.0, 1.45)],\n",
       " [(0.0, 1.85),\n",
       "  (7.5, 1.3753125000000002),\n",
       "  (15.0, 1.0362500000000001),\n",
       "  (22.5, 0.8328125000000002),\n",
       "  (30.0, 0.7650000000000001),\n",
       "  (37.5, 0.8328125000000002),\n",
       "  (45.0, 1.0362500000000003),\n",
       "  (52.5, 1.3753125000000002),\n",
       "  (60.0, 1.85)],\n",
       " [(0.0, 2.25),\n",
       "  (7.5, 1.6703124999999999),\n",
       "  (15.0, 1.25625),\n",
       "  (22.5, 1.0078125),\n",
       "  (30.0, 0.925),\n",
       "  (37.5, 1.0078125),\n",
       "  (45.0, 1.25625),\n",
       "  (52.5, 1.6703124999999996),\n",
       "  (60.0, 2.25)]]"
      ]
     },
     "execution_count": 24,
     "metadata": {},
     "output_type": "execute_result"
    }
   ],
   "source": [
    "endcable = section_end.cable_prop\n",
    "midcable = section_mid.cable_prop\n",
    "cableprofile = cable_profile(endcable, midcable, 60, 8)\n",
    "cableprofile"
   ]
  },
  {
   "cell_type": "markdown",
   "id": "c96fee0f",
   "metadata": {},
   "source": [
    "plot cable profile"
   ]
  },
  {
   "cell_type": "code",
   "execution_count": 17,
   "id": "af195c4d",
   "metadata": {},
   "outputs": [
    {
     "data": {
      "image/png": "[encoded data removed]",
      "text/plain": [
       "<Figure size 1152x223.2 with 1 Axes>"
      ]
     },
     "metadata": {
      "needs_background": "light"
     },
     "output_type": "display_data"
    }
   ],
   "source": [
    "f, ax = plt.subplots(figsize = (16,3.1))\n",
    "plt.xlim(-1,30)\n",
    "j = 1\n",
    "for i in cableprofile:\n",
    "    x, y = zip(*i)\n",
    "    ax.plot(x, y, label = 'layer %s' % j)\n",
    "    ax.legend(loc = 'upper right')\n",
    "    j = j+1"
   ]
  },
  {
   "cell_type": "markdown",
   "id": "6fdeed97",
   "metadata": {},
   "source": [
    "responses due to load"
   ]
  },
  {
   "cell_type": "code",
   "execution_count": 18,
   "id": "ec7a6541",
   "metadata": {},
   "outputs": [],
   "source": [
    "respedLL = pd.read_excel('outputs/responses/pedLL.xlsx')"
   ]
  },
  {
   "cell_type": "markdown",
   "id": "945e3231",
   "metadata": {},
   "source": [
    "sdf"
   ]
  },
  {
   "cell_type": "code",
   "execution_count": 19,
   "id": "6ff35e24",
   "metadata": {},
   "outputs": [
    {
     "data": {
      "text/plain": [
       "Text(0, 0.5, 'SF(kN)')"
      ]
     },
     "execution_count": 19,
     "metadata": {},
     "output_type": "execute_result"
    },
    {
     "data": {
      "image/png": "[encoded data removed]",
      "text/plain": [
       "<Figure size 1080x216 with 1 Axes>"
      ]
     },
     "metadata": {
      "needs_background": "light"
     },
     "output_type": "display_data"
    }
   ],
   "source": [
    "plt.figure(figsize=(15, 3))\n",
    "plt.plot(respedLL.station, respedLL.SF)\n",
    "plt.axhline(y=0, lw = 0.5)\n",
    "plt.xlabel('distance(m)')\n",
    "plt.ylabel('SF(kN)')\n",
    "# plt.scatter(xs, ys)\n",
    "# plt.axis([0,6,0,6])  #this line does the job\n",
    "# plt.show()"
   ]
  },
  {
   "cell_type": "markdown",
   "id": "8c85afd1",
   "metadata": {},
   "source": [
    "bmd"
   ]
  },
  {
   "cell_type": "code",
   "execution_count": 20,
   "id": "81b40532",
   "metadata": {
    "scrolled": true
   },
   "outputs": [
    {
     "data": {
      "text/plain": [
       "Text(0, 0.5, 'BM(kNm)')"
      ]
     },
     "execution_count": 20,
     "metadata": {},
     "output_type": "execute_result"
    },
    {
     "data": {
      "image/png": "[encoded data removed]",
      "text/plain": [
       "<Figure size 1080x216 with 1 Axes>"
      ]
     },
     "metadata": {
      "needs_background": "light"
     },
     "output_type": "display_data"
    }
   ],
   "source": [
    "plt.figure(figsize=(15, 3))\n",
    "plt.plot(respedLL.station, respedLL.BM)\n",
    "plt.axhline(y=0, lw = 0.5)\n",
    "plt.xlabel('distance(m)')\n",
    "plt.ylabel('BM(kNm)')\n",
    "# plt.scatter(xs, ys)\n",
    "# plt.axis([0,6,0,6])  #this line does the job\n",
    "# plt.show()"
   ]
  },
  {
   "cell_type": "code",
   "execution_count": 22,
   "id": "eb9e51f3",
   "metadata": {
    "scrolled": false
   },
   "outputs": [
    {
     "data": {
      "text/html": [
       "<div>\n",
       "<style scoped>\n",
       "    .dataframe tbody tr th:only-of-type {\n",
       "        vertical-align: middle;\n",
       "    }\n",
       "\n",
       "    .dataframe tbody tr th {\n",
       "        vertical-align: top;\n",
       "    }\n",
       "\n",
       "    .dataframe thead th {\n",
       "        text-align: right;\n",
       "    }\n",
       "</style>\n",
       "<table border=\"1\" class=\"dataframe\">\n",
       "  <thead>\n",
       "    <tr style=\"text-align: right;\">\n",
       "      <th>station</th>\n",
       "      <th>0.0</th>\n",
       "      <th>7.5</th>\n",
       "      <th>15.0</th>\n",
       "      <th>22.5</th>\n",
       "      <th>30.0</th>\n",
       "      <th>37.5</th>\n",
       "      <th>45.0</th>\n",
       "      <th>52.5</th>\n",
       "      <th>60.0</th>\n",
       "    </tr>\n",
       "  </thead>\n",
       "  <tbody>\n",
       "    <tr>\n",
       "      <th>SF</th>\n",
       "      <td>-190.9</td>\n",
       "      <td>-143.1</td>\n",
       "      <td>-95.4</td>\n",
       "      <td>-47.7</td>\n",
       "      <td>-0.0</td>\n",
       "      <td>47.7</td>\n",
       "      <td>95.4</td>\n",
       "      <td>143.1</td>\n",
       "      <td>190.9</td>\n",
       "    </tr>\n",
       "    <tr>\n",
       "      <th>BM</th>\n",
       "      <td>0.0</td>\n",
       "      <td>1252.5</td>\n",
       "      <td>2147.2</td>\n",
       "      <td>2684.0</td>\n",
       "      <td>2862.9</td>\n",
       "      <td>2684.0</td>\n",
       "      <td>2147.2</td>\n",
       "      <td>1252.5</td>\n",
       "      <td>-0.0</td>\n",
       "    </tr>\n",
       "  </tbody>\n",
       "</table>\n",
       "</div>"
      ],
      "text/plain": [
       "station   0.0     7.5     15.0    22.5    30.0    37.5    45.0    52.5   60.0\n",
       "SF      -190.9  -143.1   -95.4   -47.7    -0.0    47.7    95.4   143.1  190.9\n",
       "BM         0.0  1252.5  2147.2  2684.0  2862.9  2684.0  2147.2  1252.5   -0.0"
      ]
     },
     "metadata": {},
     "output_type": "display_data"
    }
   ],
   "source": [
    "respedLL_dc = pd.read_excel('outputs/responses/pedLL _dc.xlsx', index_col=0)\n",
    "display(respedLL_dc.round(1).T)"
   ]
  },
  {
   "cell_type": "code",
   "execution_count": null,
   "id": "a2864eea",
   "metadata": {},
   "outputs": [],
   "source": []
  }
 ],
 "metadata": {
  "kernelspec": {
   "display_name": "Python 3 (ipykernel)",
   "language": "python",
   "name": "python3"
  },
  "language_info": {
   "codemirror_mode": {
    "name": "ipython",
    "version": 3
   },
   "file_extension": ".py",
   "mimetype": "text/x-python",
   "name": "python",
   "nbconvert_exporter": "python",
   "pygments_lexer": "ipython3",
   "version": "3.9.7"
  }
 },
 "nbformat": 4,
 "nbformat_minor": 5
}
