{
 "cells": [
  {
   "cell_type": "code",
   "execution_count": 1,
   "id": "f2fb6a69",
   "metadata": {},
   "outputs": [],
   "source": [
    "import numpy as np\n",
    "import matplotlib.pyplot as plt"
   ]
  },
  {
   "cell_type": "markdown",
   "id": "39b99fd5",
   "metadata": {},
   "source": [
    "strain combinations"
   ]
  },
  {
   "cell_type": "code",
   "execution_count": 2,
   "id": "aa4adc8f",
   "metadata": {},
   "outputs": [],
   "source": [
    "def ebot(etop):\n",
    "    \"\"\"\n",
    "    strain on bottom such that strain at 3/7h from top is ec2 0.002\n",
    "    :param etop: strain on top\n",
    "    :return: strain at bottom\n",
    "    \"\"\"\n",
    "    ebot = 4/3*(0.0035-etop)\n",
    "    return ebot"
   ]
  },
  {
   "cell_type": "code",
   "execution_count": 3,
   "id": "fc88de1c",
   "metadata": {},
   "outputs": [],
   "source": [
    "fck = 30   \n",
    "r = 1200\n",
    "\n",
    "steps = 100\n",
    "ec2 = 0.002\n",
    "ecu2 = 0.0035\n",
    "strain_comb_p1 = [(i, ebot(i)) for i in list(np.round(np.linspace(ec2, ecu2, steps, endpoint=False), 4))] #bottom strain non negative\n",
    "strain_comb_p2 = [(ecu2, i) for i in list(np.round(np.linspace(0, -0.045, steps), 4))] #bottom strain negative\n",
    "\n",
    "strain_comb = strain_comb_p1 + strain_comb_p2"
   ]
  },
  {
   "cell_type": "code",
   "execution_count": 4,
   "id": "4450d7a7",
   "metadata": {},
   "outputs": [],
   "source": [
    "def interpol_e(etop, ebot, steps):\n",
    "    \"\"\"\n",
    "    interpolate strain for each strip given extreme strain values\n",
    "    :param etop: strain at top\n",
    "    :param ebot: strain at bottom\n",
    "    :param steps: number of strips\n",
    "    :return: list of strain for each strip\n",
    "    \"\"\"\n",
    "    e = []\n",
    "    for m in range(steps + 1):\n",
    "        e.append(np.round(etop - (etop - ebot) * m / steps, 4))\n",
    "    return e"
   ]
  },
  {
   "cell_type": "code",
   "execution_count": 5,
   "id": "48484cfb",
   "metadata": {},
   "outputs": [],
   "source": [
    "def stress(ec2, fck):\n",
    "    \"\"\"\n",
    "    stress strain relationship. refer to IRC: 112-2020 Cl. 6.4.2.8\n",
    "    :param ec2: strain\n",
    "    :param fck: fck of concrete\n",
    "    :return: stress for giver strain ec2 for concrete of grade fck\n",
    "    \"\"\"\n",
    "    if ec2 < 0:\n",
    "        stress = 0\n",
    "    elif 0 <= ec2 <= 0.002:\n",
    "        stress = 0.67*fck/1.5 * (1 - np.power((1 - ec2 / 0.002), 2))\n",
    "    else:\n",
    "        stress = 0.67*fck/1.5\n",
    "    return stress"
   ]
  },
  {
   "cell_type": "code",
   "execution_count": 6,
   "id": "864d1aa0",
   "metadata": {},
   "outputs": [],
   "source": [
    "def seg_area(h, r):\n",
    "    \"\"\"\n",
    "    area of minor segment of a circle of radius r, made by chord at height h away from centre.\n",
    "    :param h: distance of chord from centre\n",
    "    :param r: radius of circle\n",
    "    :return: area of minor segment\n",
    "    \"\"\"\n",
    "    theta = np.arccos(h/r) * 2\n",
    "    area = 1/2*r**2*(theta - np.sin(theta))\n",
    "    return area"
   ]
  },
  {
   "cell_type": "code",
   "execution_count": 7,
   "id": "fb7e84f8",
   "metadata": {},
   "outputs": [],
   "source": [
    "def pm(l, w, axis=0, n=50):\n",
    "    \"\"\"\n",
    "    pm pair\n",
    "    :param l: length of rectangle of wall type pier (along transverse direction w.r.to traffic direction)\n",
    "    :param w: width of rectangle (also equal to diameter of circular ends)\n",
    "    :param axis: 0, 1 for transverse axis, longitudinal axis respectively(w.r.to traffic dir)\n",
    "    :param n: no of strips\n",
    "    :return: pair of (m, p)\n",
    "    \"\"\"\n",
    "    global fck\n",
    "    global strain_comb\n",
    "    r = w/2\n",
    "    f = []\n",
    "    m = []\n",
    "    \n",
    "    for i in strain_comb:\n",
    "        st_top = i[0]\n",
    "        st_bot = i[1]\n",
    "\n",
    "        seg_e = np.array(interpol_e(st_top, st_bot, n))[1:]\n",
    "        seg_stress = np.array([stress(i, fck) for i in seg_e])\n",
    "        \n",
    "        if axis == 0:\n",
    "            seg_h = np.linspace(r, -r, n+1)\n",
    "            seg_ar = np.array([seg_area(seg_h[i], r) - seg_area(seg_h[i-1], r) + l*w/n for i in range(1, len(seg_h))])\n",
    "            \n",
    "        if axis == 1:\n",
    "            seg_h = np.linspace(l/2 + r, -(l/2 + r), n+1)\n",
    "            seg_ar_lst = []\n",
    "            for i in range(1, len(seg_h)):\n",
    "                if r+l/2 > seg_h[i] >= l/2:\n",
    "                    seg_ar_lst.append(seg_area(seg_h[i] - l/2, r) - seg_area(seg_h[i-1] - l/2, r))\n",
    "                elif l/2 > seg_h[i] >= -l/2:\n",
    "                    seg_ar_lst.append(w*(l+2*r)/n)\n",
    "                elif -l/2 > seg_h[i] >= -(l/2 + r):\n",
    "                    seg_ar_lst.append(seg_area(seg_h[i] + l/2, r) - seg_area(seg_h[i-1] + l/2, r))\n",
    "            seg_ar = np.array(seg_ar_lst)\n",
    "            \n",
    "        seg_force = seg_stress * seg_ar\n",
    "        f.append(seg_force.sum())\n",
    "\n",
    "        seg_cg = seg_h[: -1] - r/n\n",
    "        seg_m = seg_force * seg_cg\n",
    "        m.append(seg_m.sum())\n",
    "    return (m, f)"
   ]
  },
  {
   "cell_type": "code",
   "execution_count": 8,
   "id": "e55d1cfc",
   "metadata": {},
   "outputs": [],
   "source": [
    "pm1 = pm(0, 2400)"
   ]
  },
  {
   "cell_type": "code",
   "execution_count": 9,
   "id": "d23961df",
   "metadata": {},
   "outputs": [
    {
     "data": {
      "text/plain": [
       "[<matplotlib.lines.Line2D at 0x27296d7eac0>]"
      ]
     },
     "execution_count": 9,
     "metadata": {},
     "output_type": "execute_result"
    },
    {
     "data": {
      "image/png": "[encoded data removed]",
      "text/plain": [
       "<Figure size 432x288 with 1 Axes>"
      ]
     },
     "metadata": {
      "needs_background": "light"
     },
     "output_type": "display_data"
    }
   ],
   "source": [
    "plt.plot(pm1[0], pm1[1])"
   ]
  },
  {
   "cell_type": "code",
   "execution_count": 10,
   "id": "cf737e4a",
   "metadata": {},
   "outputs": [],
   "source": [
    "fck = 30    \n",
    "n = 50\n",
    "r = 1200\n",
    "f = []\n",
    "m = []\n",
    "\n",
    "for i in strain_comb:\n",
    "    st_top = i[0]\n",
    "    st_bot = i[1]\n",
    "\n",
    "    seg_e = np.array(interpol_e(st_top, st_bot, n))[1:]\n",
    "    seg_stress = np.array([stress(i, fck) for i in seg_e])\n",
    "\n",
    "    seg_h = np.linspace(r, -r, n+1)\n",
    "\n",
    "    seg_ar = np.array([seg_area(seg_h[i], r) - seg_area(seg_h[i-1], r) for i in range(1, len(seg_h))])\n",
    "    seg_force = seg_stress * seg_ar\n",
    "    f.append(seg_force.sum())\n",
    "\n",
    "    seg_cg = seg_h[: -1] - r/n\n",
    "    seg_m = seg_force * seg_cg\n",
    "    m.append(seg_m.sum())\n",
    "    "
   ]
  },
  {
   "cell_type": "code",
   "execution_count": 11,
   "id": "faa0d37d",
   "metadata": {},
   "outputs": [
    {
     "data": {
      "text/plain": [
       "[<matplotlib.lines.Line2D at 0x2729750a8b0>]"
      ]
     },
     "execution_count": 11,
     "metadata": {},
     "output_type": "execute_result"
    },
    {
     "data": {
      "image/png": "[encoded data removed]",
      "text/plain": [
       "<Figure size 432x288 with 1 Axes>"
      ]
     },
     "metadata": {
      "needs_background": "light"
     },
     "output_type": "display_data"
    }
   ],
   "source": [
    "plt.plot(m,f)"
   ]
  },
  {
   "cell_type": "code",
   "execution_count": null,
   "id": "500e2d1f",
   "metadata": {},
   "outputs": [],
   "source": []
  }
 ],
 "metadata": {
  "kernelspec": {
   "display_name": "Python 3 (ipykernel)",
   "language": "python",
   "name": "python3"
  },
  "language_info": {
   "codemirror_mode": {
    "name": "ipython",
    "version": 3
   },
   "file_extension": ".py",
   "mimetype": "text/x-python",
   "name": "python",
   "nbconvert_exporter": "python",
   "pygments_lexer": "ipython3",
   "version": "3.10.0"
  }
 },
 "nbformat": 4,
 "nbformat_minor": 5
}
