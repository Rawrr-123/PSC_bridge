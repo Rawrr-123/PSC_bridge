{
 "cells": [
  {
   "cell_type": "code",
   "execution_count": 18,
   "id": "676d1c99",
   "metadata": {},
   "outputs": [],
   "source": [
    "import numpy as np\n",
    "import pandas as pd\n",
    "import matplotlib.pyplot as plt\n",
    "# from allinput import main_input\n",
    "from irc6_2007 import *\n",
    "\n",
    "from reaction import find_bm, find_sf, find_ra, find_rb\n",
    "from bridge_specs import box, bearing"
   ]
  },
  {
   "cell_type": "markdown",
   "id": "10724b6b",
   "metadata": {},
   "source": [
    "#### inputs"
   ]
  },
  {
   "cell_type": "code",
   "execution_count": 19,
   "id": "fbe126e5",
   "metadata": {},
   "outputs": [],
   "source": [
    "span = 60"
   ]
  },
  {
   "cell_type": "markdown",
   "id": "367c4096",
   "metadata": {},
   "source": [
    "#### defining loads"
   ]
  },
  {
   "cell_type": "code",
   "execution_count": 20,
   "id": "a471adca",
   "metadata": {},
   "outputs": [],
   "source": [
    "vehicles = [ll_A, ll_70R, ll_70RT]\n",
    "classA_pair, class70R, class70RT = [list(i.loadpair) for i in vehicles]\n",
    "loads = [classA_pair, class70R, class70RT]"
   ]
  },
  {
   "cell_type": "markdown",
   "id": "65c9a0e0",
   "metadata": {},
   "source": [
    "#### maxBM, maxSF at equal intervals\n",
    "when each vehicle from the list of vehicles travels along the span, max reactions (BM and SF+/-) at equally divided intervals are calculated and stored in maxBMs, maxSFs_plus, maxSFs_minus."
   ]
  },
  {
   "cell_type": "code",
   "execution_count": 21,
   "id": "405cfa42",
   "metadata": {},
   "outputs": [],
   "source": [
    "#input\n",
    "def max_rxn(loads, span):\n",
    "    \"\"\"\n",
    "\n",
    "    Args:\n",
    "        loads: loads pair [(x, axle_load)]\n",
    "        span: span in metres\n",
    "\n",
    "    Returns:\n",
    "        dataframe containing max reactions at intermediate spans for each live load type\n",
    "    \"\"\"\n",
    "    maxBMs = []\n",
    "    maxSFs_plus = []\n",
    "    maxSFs_minus = []\n",
    "    for i in range(len(loads)):\n",
    "        maxBM = []\n",
    "        maxSF_plus = []\n",
    "        maxSF_minus = []\n",
    "        for j in range(9):\n",
    "            at = span / 8 * j\n",
    "            first_wheel_at = 0\n",
    "            step = 0.1\n",
    "\n",
    "            BM = find_bm(span, 0, at)\n",
    "            SF_plus = find_sf(span, 0, at)\n",
    "            SF_minus = find_sf(span, 0, at)\n",
    "            for k in range(int((span + loads[i][-1][0]) / step) + 2):  # '+2' to make sure the load moves all the way to\n",
    "                # end until it has no effect\n",
    "                bm = 0\n",
    "                sf = 0\n",
    "                for this in loads[i]:\n",
    "                    a, load = this\n",
    "                    pos = -a + first_wheel_at\n",
    "                    bm = bm + find_bm(span, pos, at) * load\n",
    "                    sf = sf + find_sf(span, pos, at) * load\n",
    "                first_wheel_at += step\n",
    "                BM = bm if bm > BM else BM\n",
    "                SF_plus = sf if sf > SF_plus else SF_plus\n",
    "                SF_minus = sf if sf < SF_minus else SF_minus\n",
    "            maxBM.append(round(BM, 3))\n",
    "            maxSF_plus.append(round(SF_plus, 3))\n",
    "            maxSF_minus.append(round(SF_minus, 3))\n",
    "        maxBMs.append(maxBM)\n",
    "        maxSFs_plus.append(maxSF_plus)\n",
    "        maxSFs_minus.append(maxSF_minus)\n",
    "    \n",
    "    A = ['MaxBM', 'MaxSF+', 'MaxSF-']\n",
    "    B = ['ClassA', 'Class70RW', 'Class70RT']\n",
    "\n",
    "    iterables = [A, B]\n",
    "    index = pd.MultiIndex.from_product(iterables)\n",
    "\n",
    "    C = []\n",
    "\n",
    "    for i in [maxBMs, maxSFs_plus, maxSFs_minus]:\n",
    "        C.extend(i)\n",
    "\n",
    "    df = pd.DataFrame(C, index=index, columns=[span / 8 * i for i in range(9)])\n",
    "#     print(df.loc[('ClassA', 'MaxSF-')])   ## you can navigate using loc, iloc\n",
    "\n",
    "    new_row = df.loc['MaxSF+'].where(df.loc['MaxSF+'] > abs(df.loc['MaxSF-']), abs(df.loc['MaxSF-']))\n",
    "\n",
    "    new_row.index = pd.MultiIndex.from_product([['MaxSF'], B])\n",
    "    df = pd.concat([df, new_row])\n",
    "    \n",
    "    return df"
   ]
  },
  {
   "cell_type": "markdown",
   "id": "493939e4",
   "metadata": {},
   "source": [
    "#### impact factor"
   ]
  },
  {
   "cell_type": "code",
   "execution_count": 22,
   "id": "3f1b5cb6",
   "metadata": {},
   "outputs": [],
   "source": [
    "IF = [impact(i.name, span) for i in vehicles]\n",
    "arr_if = np.array(IF)\n",
    "arr_with_if = np.array(IF)+1 #including impact factor"
   ]
  },
  {
   "cell_type": "markdown",
   "id": "311de524",
   "metadata": {},
   "source": [
    "distribution factor"
   ]
  },
  {
   "cell_type": "code",
   "execution_count": 24,
   "id": "06edbc6c",
   "metadata": {},
   "outputs": [
    {
     "data": {
      "text/plain": [
       "[1.067, 0.5, 0.635, 0.617]"
      ]
     },
     "execution_count": 24,
     "metadata": {},
     "output_type": "execute_result"
    }
   ],
   "source": [
    "dfe = pd.read_excel('outputs/max_e.xlsx', index_col=0)\n",
    "\n",
    "ecc = dfe['MaxEccentricity'] #eccentricity\n",
    "\n",
    "def df(ecc, webcc):\n",
    "    df = (webcc/2+ecc)/webcc\n",
    "    return round(df, 3)\n",
    "\n",
    "webcc = 3 #input web center/center distance\n",
    "distf = [df(i, webcc) for i in ecc]"
   ]
  },
  {
   "cell_type": "markdown",
   "id": "d02313ec",
   "metadata": {},
   "source": [
    "#### output #1"
   ]
  },
  {
   "cell_type": "code",
   "execution_count": 23,
   "id": "36ff4511",
   "metadata": {},
   "outputs": [],
   "source": [
    "df_maxR = max_rxn(loads, span) # without impact factor\n",
    "# df_maxR.to_excel('outputs/loads.xlsx') # uncomment to save as excel file\n"
   ]
  },
  {
   "cell_type": "code",
   "execution_count": null,
   "id": "f32bc219",
   "metadata": {},
   "outputs": [],
   "source": []
  }
 ],
 "metadata": {
  "kernelspec": {
   "display_name": "Python 3 (ipykernel)",
   "language": "python",
   "name": "python3"
  },
  "language_info": {
   "codemirror_mode": {
    "name": "ipython",
    "version": 3
   },
   "file_extension": ".py",
   "mimetype": "text/x-python",
   "name": "python",
   "nbconvert_exporter": "python",
   "pygments_lexer": "ipython3",
   "version": "3.9.7"
  }
 },
 "nbformat": 4,
 "nbformat_minor": 5
}
