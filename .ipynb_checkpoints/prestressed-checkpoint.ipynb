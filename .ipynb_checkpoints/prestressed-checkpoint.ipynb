{
 "cells": [
  {
   "cell_type": "code",
   "execution_count": 32,
   "id": "ba6ea02b",
   "metadata": {},
   "outputs": [],
   "source": [
    "import pandas as pd\n",
    "import numpy as np\n",
    "import math\n",
    "\n",
    "import irc6_2007 as irc6\n",
    "\n",
    "\n",
    "from Cross import Cross_section,cables, expansion_calc\n",
    "from bridge_specs import box\n",
    "# from allinput import main_input"
   ]
  },
  {
   "cell_type": "code",
   "execution_count": 33,
   "id": "66adbd64",
   "metadata": {},
   "outputs": [],
   "source": [
    "import matplotlib.pyplot as plt"
   ]
  },
  {
   "cell_type": "markdown",
   "id": "79474a07",
   "metadata": {},
   "source": [
    "### inputs"
   ]
  },
  {
   "cell_type": "code",
   "execution_count": 34,
   "id": "cf31f2ab",
   "metadata": {},
   "outputs": [],
   "source": [
    "df=pd.read_excel('data/span.xlsx',index_col=None,header=None)\n",
    "fck = 45 #input grade of concrete\n",
    "span = 60\n",
    "prestressing_force = 2730 #input\n",
    "no = 9 # division -- j sukei garr"
   ]
  },
  {
   "cell_type": "markdown",
   "id": "a2abd748",
   "metadata": {},
   "source": [
    "***required:***\n",
    "1. list of sections with cable profile\n",
    "2. BM due to permanent dead load\n",
    "3. BM due to superimposed dead load (without surfacing)\n",
    "4. BM due to surfacing\n",
    "5. BM due to live load (max of all vehicle loads)"
   ]
  },
  {
   "cell_type": "code",
   "execution_count": 35,
   "id": "6a14f408",
   "metadata": {},
   "outputs": [],
   "source": [
    "sc=[(j)/(no-1)*span for j in range(no)] #dividing span into n parts"
   ]
  },
  {
   "cell_type": "code",
   "execution_count": 36,
   "id": "1c1b5c37",
   "metadata": {},
   "outputs": [
    {
     "data": {
      "text/plain": [
       "[0.0, 7.5, 15.0, 22.5, 30.0, 37.5, 45.0, 52.5, 60.0]"
      ]
     },
     "execution_count": 36,
     "metadata": {},
     "output_type": "execute_result"
    }
   ],
   "source": [
    "sc"
   ]
  },
  {
   "cell_type": "markdown",
   "id": "55798041",
   "metadata": {},
   "source": [
    "**defining sections**"
   ]
  },
  {
   "cell_type": "markdown",
   "id": "07f859e2",
   "metadata": {},
   "source": [
    "main section"
   ]
  },
  {
   "cell_type": "code",
   "execution_count": 37,
   "id": "ad0223ce",
   "metadata": {},
   "outputs": [],
   "source": [
    "lengthend = [0.6, 0.6, 4.4, 4.4, 1.8, 1.8, 1.8, 1.8, 0.45, 0.45, 0.45, 0.45]\n",
    "heightend = [3.5, 3.5, 0.4, 0.35, 0.15, 0.15, 0.3, 0.3, 0.15, 0.15, 0.15, 0.15]\n",
    "cable_posend = [[0.3, 0.65],\n",
    " [0.3, 1.05],\n",
    " [0.3, 1.45],\n",
    " [0.3, 1.85],\n",
    " [0.3, 2.25],\n",
    " [5.3, 0.65],\n",
    " [5.3, 1.05],\n",
    " [5.3, 1.45],\n",
    " [5.3, 1.85],\n",
    " [5.3, 2.25],\n",
    " [0.925, 0.25],\n",
    " [1.55, 0.25],\n",
    " [2.175, 0.25],\n",
    " [2.8, 0.25],\n",
    " [3.425, 0.25],\n",
    " [4.05, 0.25],\n",
    " [4.675, 0.25]]\n",
    "\n",
    "section_end = Cross_section(lengthend, heightend)\n",
    "section_end.cable_prop = cable_posend\n",
    "\n",
    "lengthmid = [0.3, 0.3, 4.7, 4.7, 1.95, 1.95, 1.95, 1.95, 0.45, 0.45, 0.45, 0.45]\n",
    "heightmid = [3.5, 3.5, 0.25, 0.25, 0.15, 0.15, 0.3, 0.3, 0.15, 0.15, 0.15, 0.15]\n",
    "cable_posmid = [[0.15, 0.285],\n",
    " [0.15, 0.445],\n",
    " [0.15, 0.605],\n",
    " [0.15, 0.765],\n",
    " [0.15, 0.925],\n",
    " [5.15, 0.285],\n",
    " [5.15, 0.445],\n",
    " [5.15, 0.605],\n",
    " [5.15, 0.765],\n",
    " [5.15, 0.925],\n",
    " [0.775, 0.125],\n",
    " [1.4, 0.125],\n",
    " [2.025, 0.125],\n",
    " [2.65, 0.125],\n",
    " [3.275, 0.125],\n",
    " [3.9, 0.125],\n",
    " [4.525, 0.125]]\n",
    "\n",
    "section_mid = Cross_section(lengthmid, heightmid)\n",
    "section_mid.cable_prop = cable_posmid"
   ]
  },
  {
   "cell_type": "markdown",
   "id": "bbbc76cd",
   "metadata": {},
   "source": [
    "Generating intermediate sections"
   ]
  },
  {
   "cell_type": "code",
   "execution_count": 38,
   "id": "fe7e8ed4",
   "metadata": {},
   "outputs": [],
   "source": [
    "def cable_interpol(end_cable_pos, mid_cable_pos, span_length, distance):\n",
    "    cable_interpol = []\n",
    "    for i in range(len(end_cable_pos)):\n",
    "        h = end_cable_pos[i][1]-mid_cable_pos[i][1]\n",
    "        a = end_cable_pos[i][1]\n",
    "        y = a - 4*h*distance/span_length + 4*h*distance**2/span_length**2\n",
    "        cable_interpol.append((end_cable_pos[i][0], y))\n",
    "    return cable_interpol"
   ]
  },
  {
   "cell_type": "code",
   "execution_count": 39,
   "id": "2843acda",
   "metadata": {},
   "outputs": [
    {
     "data": {
      "text/plain": [
       "[(0.3, 0.65),\n",
       " (0.3, 1.05),\n",
       " (0.3, 1.45),\n",
       " (0.3, 1.85),\n",
       " (0.3, 2.25),\n",
       " (5.3, 0.65),\n",
       " (5.3, 1.05),\n",
       " (5.3, 1.45),\n",
       " (5.3, 1.85),\n",
       " (5.3, 2.25),\n",
       " (0.925, 0.25),\n",
       " (1.55, 0.25),\n",
       " (2.175, 0.25),\n",
       " (2.8, 0.25),\n",
       " (3.425, 0.25),\n",
       " (4.05, 0.25),\n",
       " (4.675, 0.25)]"
      ]
     },
     "execution_count": 39,
     "metadata": {},
     "output_type": "execute_result"
    }
   ],
   "source": [
    "cable_interpol(cable_posend, cable_posmid, 60, 0)"
   ]
  },
  {
   "cell_type": "code",
   "execution_count": 40,
   "id": "d5887d80",
   "metadata": {},
   "outputs": [],
   "source": [
    "cable_no = 18 #input no of cables\n",
    "cable = cables(fck,cable_no,section_end)"
   ]
  },
  {
   "cell_type": "code",
   "execution_count": 41,
   "id": "e6b50c76",
   "metadata": {},
   "outputs": [],
   "source": [
    "import copy"
   ]
  },
  {
   "cell_type": "code",
   "execution_count": 42,
   "id": "f018f8bf",
   "metadata": {},
   "outputs": [],
   "source": [
    "sections = [copy.copy(section_end), copy.copy(section_mid), copy.copy(section_mid), copy.copy(section_mid), copy.copy(section_mid), copy.copy(section_mid), copy.copy(section_mid), copy.copy(section_mid), copy.copy(section_end)]"
   ]
  },
  {
   "cell_type": "code",
   "execution_count": 43,
   "id": "aa012d72",
   "metadata": {
    "scrolled": true
   },
   "outputs": [],
   "source": [
    "for i in range(len(sections)):\n",
    "    sections[i].cable_prop = cable_interpol(cable_posend, cable_posmid, 60, sc[i])"
   ]
  },
  {
   "cell_type": "code",
   "execution_count": 44,
   "id": "4b0aedd0",
   "metadata": {
    "scrolled": true
   },
   "outputs": [
    {
     "data": {
      "text/plain": [
       "[(0.3, 0.30781250000000004),\n",
       " (0.3, 0.4828125000000001),\n",
       " (0.3, 0.6578125000000001),\n",
       " (0.3, 0.8328125000000002),\n",
       " (0.3, 1.0078125),\n",
       " (5.3, 0.30781250000000004),\n",
       " (5.3, 0.4828125000000001),\n",
       " (5.3, 0.6578125000000001),\n",
       " (5.3, 0.8328125000000002),\n",
       " (5.3, 1.0078125),\n",
       " (0.925, 0.1328125),\n",
       " (1.55, 0.1328125),\n",
       " (2.175, 0.1328125),\n",
       " (2.8, 0.1328125),\n",
       " (3.425, 0.1328125),\n",
       " (4.05, 0.1328125),\n",
       " (4.675, 0.1328125)]"
      ]
     },
     "execution_count": 44,
     "metadata": {},
     "output_type": "execute_result"
    }
   ],
   "source": [
    "sections[5].cable_prop"
   ]
  },
  {
   "cell_type": "code",
   "execution_count": 45,
   "id": "412cbfca",
   "metadata": {},
   "outputs": [],
   "source": [
    "# endsec = sections[0]\n",
    "# endsec.cable_prop\n",
    "\n",
    "# midsec = sections[4]\n",
    "# midsec.cable_prop, endsec.Centroid"
   ]
  },
  {
   "cell_type": "markdown",
   "id": "8a9f4db8",
   "metadata": {},
   "source": [
    "**Importing load**"
   ]
  },
  {
   "cell_type": "code",
   "execution_count": 46,
   "id": "d8dfa7ee",
   "metadata": {},
   "outputs": [],
   "source": [
    "df = pd.read_excel('outputs/Moments.xlsx', index_col=0)\n",
    "\n",
    "#bm multipied by distribution factor\n",
    "bm_pdl = np.array(df['Dead Load'])\n",
    "bm_odl = np.array(df['Other Loads'])\n",
    "bm_surf = np.array(df['Surface Loads'])\n",
    "bm_pedl = np.array(df['Pedestrian Load'])\n",
    "\n",
    "dfl = pd.read_excel('outputs/loads.xlsx', index_col=[0, 1]) #live load"
   ]
  },
  {
   "cell_type": "markdown",
   "id": "d3cd03e4",
   "metadata": {},
   "source": [
    "**live load calculation**"
   ]
  },
  {
   "cell_type": "markdown",
   "id": "e1aedefa",
   "metadata": {},
   "source": [
    "Impact factor"
   ]
  },
  {
   "cell_type": "code",
   "execution_count": 47,
   "id": "7118d2f0",
   "metadata": {},
   "outputs": [],
   "source": [
    "vehicles = [irc6.ll_A, irc6.ll_70R, irc6.ll_70RT]\n",
    "IF = [irc6.impact(i.name, span) for i in vehicles]\n",
    "arr_if = np.array(IF)\n",
    "arr_with_if = np.array(IF)+1 #including impact factor"
   ]
  },
  {
   "cell_type": "markdown",
   "id": "311de524",
   "metadata": {},
   "source": [
    "distribution factor"
   ]
  },
  {
   "cell_type": "code",
   "execution_count": 48,
   "id": "e7f3d9cb",
   "metadata": {
    "scrolled": true
   },
   "outputs": [
    {
     "data": {
      "text/plain": [
       "[0.84, 0.5, 0.581, 0.57]"
      ]
     },
     "execution_count": 48,
     "metadata": {},
     "output_type": "execute_result"
    }
   ],
   "source": [
    "dfe = pd.read_excel('outputs/max_e.xlsx', index_col=0)\n",
    "\n",
    "ecc = dfe['MaxEccentricity'] #eccentricity\n",
    "\n",
    "def df(ecc, webcc):\n",
    "    df = (webcc/2+ecc)/webcc\n",
    "    return round(df, 3)\n",
    "\n",
    "webcc = sections[0].position[1][0] - sections[0].position[0][0] # web center/center distance\n",
    "distf = [df(i, webcc) for i in ecc]\n",
    "distf"
   ]
  },
  {
   "cell_type": "code",
   "execution_count": 49,
   "id": "5f7fc28d",
   "metadata": {},
   "outputs": [
    {
     "data": {
      "text/plain": [
       "['left Pillar',\n",
       " 'right pillar',\n",
       " 'bottom slab',\n",
       " 'top slab',\n",
       " 'left cantilever',\n",
       " 'right cantilever',\n",
       " 'left triangle',\n",
       " 'right triangle',\n",
       " 'left top fillet',\n",
       " 'right top fillet',\n",
       " 'left bottom fillet',\n",
       " 'right bottom fillet']"
      ]
     },
     "execution_count": 49,
     "metadata": {},
     "output_type": "execute_result"
    }
   ],
   "source": [
    "sections[0].name"
   ]
  },
  {
   "cell_type": "markdown",
   "id": "7cfe311d",
   "metadata": {},
   "source": [
    "bm for live load combinations"
   ]
  },
  {
   "cell_type": "code",
   "execution_count": 50,
   "id": "9ba4d4c3",
   "metadata": {
    "scrolled": false
   },
   "outputs": [
    {
     "data": {
      "text/plain": [
       "array([[    0.      ,  3228.137344,  5556.2256  ,  6984.266944,\n",
       "         7519.3312  ,  7224.822656,  5838.6704  ,  3374.254656,\n",
       "            0.      ],\n",
       "       [    0.      ,  6456.274688, 11112.4512  , 13968.533888,\n",
       "        15038.6624  , 14449.645312, 11677.3408  ,  6748.509312,\n",
       "            0.      ],\n",
       "       [    0.      ,  6443.1632  , 10962.6336  , 13630.4368  ,\n",
       "        14554.6112  , 13610.5808  , 10802.48    ,  6205.3808  ,\n",
       "            0.      ],\n",
       "       [    0.      ,  4805.953856,  8238.5264  , 10296.138944,\n",
       "        10980.1504  , 10296.383744,  8239.3424  ,  4804.948544,\n",
       "            0.      ]])"
      ]
     },
     "execution_count": 50,
     "metadata": {},
     "output_type": "execute_result"
    }
   ],
   "source": [
    "arr_maxbm = dfl.loc['MaxBM'].to_numpy() # max bm due to each veh\n",
    "arr_maxbmif = arr_maxbm*arr_with_if[:, np.newaxis] # max bm including impact due to ll\n",
    "\n",
    "arr_ll_comb = dfe.drop(columns='MaxEccentricity').to_numpy() # ll combinations in array\n",
    "\n",
    "all_ll = arr_ll_comb.dot(arr_maxbmif) # ll with impact for each combination\n",
    "all_unfactored_ll = all_ll #without dist factor\n",
    "# all_unfactored_ll = all_ll*np.array(distf)[:, np.newaxis] # distributed bm due to live load including impact (bm*if*df)\n",
    "\n",
    "bm_ll = np.amax(all_unfactored_ll, axis=0)\n",
    "all_unfactored_ll"
   ]
  },
  {
   "cell_type": "code",
   "execution_count": 51,
   "id": "4e1a847e",
   "metadata": {},
   "outputs": [
    {
     "data": {
      "text/plain": [
       "[(0.3, 0.65),\n",
       " (0.3, 1.05),\n",
       " (0.3, 1.45),\n",
       " (0.3, 1.85),\n",
       " (0.3, 2.25),\n",
       " (5.3, 0.65),\n",
       " (5.3, 1.05),\n",
       " (5.3, 1.45),\n",
       " (5.3, 1.85),\n",
       " (5.3, 2.25),\n",
       " (0.925, 0.25),\n",
       " (1.55, 0.25),\n",
       " (2.175, 0.25),\n",
       " (2.8, 0.25),\n",
       " (3.425, 0.25),\n",
       " (4.05, 0.25),\n",
       " (4.675, 0.25)]"
      ]
     },
     "execution_count": 51,
     "metadata": {},
     "output_type": "execute_result"
    }
   ],
   "source": [
    "sections[0].cable_prop"
   ]
  },
  {
   "cell_type": "markdown",
   "id": "8c279c7f",
   "metadata": {},
   "source": [
    "### Cable profile"
   ]
  },
  {
   "cell_type": "code",
   "execution_count": 52,
   "id": "85f9c777",
   "metadata": {},
   "outputs": [],
   "source": [
    "def cable_layered(cable_pos):\n",
    "    cpx, cpy = zip(*cable_pos)\n",
    "    cab_y = sorted(list(set(cpy)))\n",
    "    return cab_y"
   ]
  },
  {
   "cell_type": "code",
   "execution_count": 53,
   "id": "52aaf253",
   "metadata": {},
   "outputs": [],
   "source": [
    "# def cable_profile(end_cable_pos, mid_cable_pos, span_length, division=8):\n",
    "#     cable_profile = []\n",
    "#     x = [(j)/division*span_length for j in range(division+1)]\n",
    "#     for i in x:\n",
    "#         cable_pos_x = []\n",
    "#         for j in range(len(end_cable_pos)):\n",
    "#             h = end_cable_pos[j][1]-mid_cable_pos[j][1]\n",
    "#             a = end_cable_pos[j][1]\n",
    "#             y = a + 4*h*i/span_length - 4*h*i**2/span_length**2\n",
    "#             cable_pos_x.append((end_cable_pos[j][0], y))\n",
    "#         cable_profile.append(cable_pos_x)\n",
    "#     return cable_profile"
   ]
  },
  {
   "cell_type": "code",
   "execution_count": 54,
   "id": "6ff7e572",
   "metadata": {},
   "outputs": [],
   "source": [
    "def cable_profile(end_cable_pos, mid_cable_pos, span_length, division=9):\n",
    "    cable_profile = []\n",
    "    x = [(j)/division*span_length for j in range(division+1)]\n",
    "    endcab = cable_layered(end_cable_pos) #[y1, y2, y3]\n",
    "    midcab = cable_layered(mid_cable_pos)#[y, y]\n",
    "    for i in range(len(endcab)):\n",
    "        cable_pos_l = [] # in layer\n",
    "        for j in x:\n",
    "            h = endcab[i]-midcab[i]\n",
    "            a = endcab[i]\n",
    "            y = a - 4*h*j/span_length + 4*h*j**2/span_length**2\n",
    "            cable_pos_l.append((j, y))\n",
    "        cable_profile.append(cable_pos_l)\n",
    "    return cable_profile"
   ]
  },
  {
   "cell_type": "code",
   "execution_count": 55,
   "id": "e5628d24",
   "metadata": {},
   "outputs": [],
   "source": [
    "endcable = sections[0].cable_prop\n",
    "midcable = sections[4].cable_prop\n",
    "cableprofile = cable_profile(endcable, midcable, span, division = 8)"
   ]
  },
  {
   "cell_type": "markdown",
   "id": "e395113d",
   "metadata": {},
   "source": [
    "plot cable profile"
   ]
  },
  {
   "cell_type": "code",
   "execution_count": 56,
   "id": "b36442d3",
   "metadata": {},
   "outputs": [
    {
     "data": {
      "image/png": "[encoded data removed]",
      "text/plain": [
       "<Figure size 1080x360 with 1 Axes>"
      ]
     },
     "metadata": {
      "needs_background": "light"
     },
     "output_type": "display_data"
    }
   ],
   "source": [
    "f = plt.figure()\n",
    "f.set_figwidth(15)\n",
    "f.set_figheight(5)\n",
    "for i in cableprofile:\n",
    "    x, y = zip(*i)\n",
    "    plt.plot(x, y)"
   ]
  },
  {
   "cell_type": "markdown",
   "id": "7385fc4f",
   "metadata": {},
   "source": [
    "cable interpol"
   ]
  },
  {
   "cell_type": "markdown",
   "id": "ebc894e3",
   "metadata": {},
   "source": [
    "### Eccentricity of cables"
   ]
  },
  {
   "cell_type": "code",
   "execution_count": 57,
   "id": "9eff7697",
   "metadata": {},
   "outputs": [],
   "source": [
    "def eccentricity(cable_positions, centroid):\n",
    "    cable_areaxpos_sum = 0\n",
    "    for i in cable_positions:\n",
    "        cable_areaxpos_sum+=(i[1]-centroid)\n",
    "    return cable_areaxpos_sum/len(cable_positions)"
   ]
  },
  {
   "cell_type": "markdown",
   "id": "f16eb15f",
   "metadata": {},
   "source": [
    "### Stress"
   ]
  },
  {
   "cell_type": "code",
   "execution_count": 58,
   "id": "06f9f8f0",
   "metadata": {},
   "outputs": [],
   "source": [
    "list_of_sections = sections\n",
    "prestressing_force_total = prestressing_force*cable_no\n",
    "# prestressing_force_withloss = 0.75*prestressing_force"
   ]
  },
  {
   "cell_type": "code",
   "execution_count": 59,
   "id": "ff3adecf",
   "metadata": {},
   "outputs": [],
   "source": [
    "def tau(section, bm):\n",
    "    tau_top = bm*section.ymin/section.I[0]\n",
    "    tau_bot = -bm*section.ymax/section.I[0]\n",
    "    return (tau_top, tau_bot)"
   ]
  },
  {
   "cell_type": "markdown",
   "id": "7cb9e41d",
   "metadata": {},
   "source": [
    "presetressing stress"
   ]
  },
  {
   "cell_type": "code",
   "execution_count": 60,
   "id": "3040c834",
   "metadata": {},
   "outputs": [],
   "source": [
    "#due to eccentricity\n",
    "bm_pre = [prestressing_force_total*eccentricity(i.cableprop, i.Centroid[1]) for i in list_of_sections] #bm due to full prestressing force\n",
    "\n",
    "list_tau_pre = [tau(list_of_sections[index], bm_pre[index]) for index in range(len(list_of_sections))] #stress due to full prestressing force\n",
    "\n",
    "#axial\n",
    "list_tau_ax = [prestressing_force_total/sum(i.section_area) for i in list_of_sections]\n",
    "\n",
    "list_tau_preTotal = [(list_tau_pre[index][0] + list_tau_ax[index], list_tau_pre[index][1] + list_tau_ax[index]) for index in range(len(list_of_sections))]"
   ]
  },
  {
   "cell_type": "code",
   "execution_count": 61,
   "id": "5f290f84",
   "metadata": {
    "scrolled": true
   },
   "outputs": [
    {
     "data": {
      "text/plain": [
       "[(2256.6689944101518, 11585.235519821344),\n",
       " (2619.1028368097805, 21093.874697343523),\n",
       " (1871.259573617951, 22680.0284797026),\n",
       " (1422.5536157028528, 23631.720749118045),\n",
       " (1272.9849630644885, 23948.95150558986),\n",
       " (1422.5536157028528, 23631.720749118045),\n",
       " (1871.259573617951, 22680.0284797026),\n",
       " (2619.1028368097805, 21093.874697343523),\n",
       " (2256.6689944101518, 11585.235519821344)]"
      ]
     },
     "execution_count": 61,
     "metadata": {},
     "output_type": "execute_result"
    }
   ],
   "source": [
    "list_tau_preTotal"
   ]
  },
  {
   "cell_type": "markdown",
   "id": "0a44b04f",
   "metadata": {},
   "source": [
    "stress due to ded load"
   ]
  },
  {
   "cell_type": "code",
   "execution_count": 62,
   "id": "6d14e7e4",
   "metadata": {},
   "outputs": [],
   "source": [
    "list_tau_DL = [tau(list_of_sections[index], bm_pdl[index]) for index in range(len(list_of_sections))]"
   ]
  },
  {
   "cell_type": "code",
   "execution_count": 63,
   "id": "c05e5f75",
   "metadata": {},
   "outputs": [],
   "source": [
    "list_tau_DLx, list_tau_DLy = zip(*list_tau_DL)"
   ]
  },
  {
   "cell_type": "markdown",
   "id": "87e89ebc",
   "metadata": {},
   "source": [
    "stress due to surfacing"
   ]
  },
  {
   "cell_type": "code",
   "execution_count": 64,
   "id": "6ff56d9b",
   "metadata": {},
   "outputs": [],
   "source": [
    "list_tau_surf = [tau(list_of_sections[index], bm_surf[index]) for index in range(len(list_of_sections))]"
   ]
  },
  {
   "cell_type": "code",
   "execution_count": 65,
   "id": "0b9d1614",
   "metadata": {},
   "outputs": [],
   "source": [
    "list_tau_surfx, list_tau_surfy = zip(*list_tau_surf)"
   ]
  },
  {
   "cell_type": "markdown",
   "id": "3c96efd8",
   "metadata": {},
   "source": [
    "stress due to other load"
   ]
  },
  {
   "cell_type": "code",
   "execution_count": 66,
   "id": "6a6adcb8",
   "metadata": {},
   "outputs": [],
   "source": [
    "list_tau_ODL = [tau(list_of_sections[index], bm_odl[index]) for index in range(len(list_of_sections))]"
   ]
  },
  {
   "cell_type": "code",
   "execution_count": 67,
   "id": "cd0a708e",
   "metadata": {},
   "outputs": [],
   "source": [
    "list_tau_ODLx, list_tau_ODLy = zip(*list_tau_ODL)"
   ]
  },
  {
   "cell_type": "markdown",
   "id": "7fe337f7",
   "metadata": {},
   "source": [
    "stress due to live load"
   ]
  },
  {
   "cell_type": "code",
   "execution_count": 68,
   "id": "908723be",
   "metadata": {
    "scrolled": true
   },
   "outputs": [],
   "source": [
    "list_tau_LL = [tau(list_of_sections[index], bm_ll[index]) for index in range(len(list_of_sections))]"
   ]
  },
  {
   "cell_type": "code",
   "execution_count": 69,
   "id": "e598d597",
   "metadata": {},
   "outputs": [],
   "source": [
    "list_tau_LLx, list_tau_LLy = zip(*list_tau_LL)"
   ]
  },
  {
   "cell_type": "code",
   "execution_count": 70,
   "id": "07571fa6",
   "metadata": {},
   "outputs": [],
   "source": [
    "arr_stress_top = np.array([\n",
    "    list(zip(*list_tau_DL))[0], \n",
    "    list(zip(*list_tau_ODL))[0], \n",
    "    list(zip(*list_tau_surf))[0], \n",
    "    list(zip(*list_tau_LL))[0], \n",
    "    list(zip(*list_tau_preTotal))[0]\n",
    "])\n",
    "\n",
    "arr_stress_bot = np.array([\n",
    "    list(zip(*list_tau_DL))[1], \n",
    "    list(zip(*list_tau_ODL))[1], \n",
    "    list(zip(*list_tau_surf))[1], \n",
    "    list(zip(*list_tau_LL))[1], \n",
    "    list(zip(*list_tau_preTotal))[1]\n",
    "])"
   ]
  },
  {
   "cell_type": "code",
   "execution_count": 71,
   "id": "c2b3663e",
   "metadata": {},
   "outputs": [
    {
     "data": {
      "text/plain": [
       "(0.0,\n",
       " 573.2017298544679,\n",
       " 986.5869341963408,\n",
       " 1240.1559994053891,\n",
       " 1335.164273354,\n",
       " 1282.8700897773672,\n",
       " 1036.7390283286777,\n",
       " 599.1469382130144,\n",
       " 0.0)"
      ]
     },
     "execution_count": 71,
     "metadata": {},
     "output_type": "execute_result"
    }
   ],
   "source": [
    "list_tau_LLx"
   ]
  },
  {
   "cell_type": "code",
   "execution_count": 72,
   "id": "ef78ba13",
   "metadata": {},
   "outputs": [
    {
     "data": {
      "text/html": [
       "<div>\n",
       "<style scoped>\n",
       "    .dataframe tbody tr th:only-of-type {\n",
       "        vertical-align: middle;\n",
       "    }\n",
       "\n",
       "    .dataframe tbody tr th {\n",
       "        vertical-align: top;\n",
       "    }\n",
       "\n",
       "    .dataframe thead tr th {\n",
       "        text-align: left;\n",
       "    }\n",
       "</style>\n",
       "<table border=\"1\" class=\"dataframe\">\n",
       "  <thead>\n",
       "    <tr>\n",
       "      <th></th>\n",
       "      <th colspan=\"2\" halign=\"left\">DL</th>\n",
       "      <th colspan=\"2\" halign=\"left\">vSIDL</th>\n",
       "      <th colspan=\"2\" halign=\"left\">fSIDL</th>\n",
       "      <th colspan=\"2\" halign=\"left\">LL</th>\n",
       "    </tr>\n",
       "    <tr>\n",
       "      <th></th>\n",
       "      <th>tauTop</th>\n",
       "      <th>tauBottom</th>\n",
       "      <th>tauTop</th>\n",
       "      <th>tauBottom</th>\n",
       "      <th>tauTop</th>\n",
       "      <th>tauBottom</th>\n",
       "      <th>tauTop</th>\n",
       "      <th>tauBottom</th>\n",
       "    </tr>\n",
       "  </thead>\n",
       "  <tbody>\n",
       "    <tr>\n",
       "      <th>0</th>\n",
       "      <td>0.000</td>\n",
       "      <td>-0.000</td>\n",
       "      <td>0.000</td>\n",
       "      <td>-0.000</td>\n",
       "      <td>0.000</td>\n",
       "      <td>-0.000</td>\n",
       "      <td>0.000</td>\n",
       "      <td>-0.000</td>\n",
       "    </tr>\n",
       "    <tr>\n",
       "      <th>1</th>\n",
       "      <td>2930.296</td>\n",
       "      <td>-6215.072</td>\n",
       "      <td>184.578</td>\n",
       "      <td>-391.485</td>\n",
       "      <td>440.470</td>\n",
       "      <td>-934.225</td>\n",
       "      <td>573.202</td>\n",
       "      <td>-1215.744</td>\n",
       "    </tr>\n",
       "    <tr>\n",
       "      <th>2</th>\n",
       "      <td>5048.186</td>\n",
       "      <td>-10707.056</td>\n",
       "      <td>316.419</td>\n",
       "      <td>-671.116</td>\n",
       "      <td>755.092</td>\n",
       "      <td>-1601.528</td>\n",
       "      <td>986.587</td>\n",
       "      <td>-2092.522</td>\n",
       "    </tr>\n",
       "    <tr>\n",
       "      <th>3</th>\n",
       "      <td>6233.157</td>\n",
       "      <td>-13220.345</td>\n",
       "      <td>395.524</td>\n",
       "      <td>-838.896</td>\n",
       "      <td>943.865</td>\n",
       "      <td>-2001.910</td>\n",
       "      <td>1240.156</td>\n",
       "      <td>-2630.335</td>\n",
       "    </tr>\n",
       "    <tr>\n",
       "      <th>4</th>\n",
       "      <td>6699.617</td>\n",
       "      <td>-14209.692</td>\n",
       "      <td>421.893</td>\n",
       "      <td>-894.822</td>\n",
       "      <td>1006.789</td>\n",
       "      <td>-2135.371</td>\n",
       "      <td>1335.164</td>\n",
       "      <td>-2831.845</td>\n",
       "    </tr>\n",
       "    <tr>\n",
       "      <th>5</th>\n",
       "      <td>6233.157</td>\n",
       "      <td>-13220.345</td>\n",
       "      <td>395.524</td>\n",
       "      <td>-838.896</td>\n",
       "      <td>943.865</td>\n",
       "      <td>-2001.910</td>\n",
       "      <td>1282.870</td>\n",
       "      <td>-2720.930</td>\n",
       "    </tr>\n",
       "    <tr>\n",
       "      <th>6</th>\n",
       "      <td>5048.186</td>\n",
       "      <td>-10707.056</td>\n",
       "      <td>316.419</td>\n",
       "      <td>-671.116</td>\n",
       "      <td>755.092</td>\n",
       "      <td>-1601.528</td>\n",
       "      <td>1036.739</td>\n",
       "      <td>-2198.893</td>\n",
       "    </tr>\n",
       "    <tr>\n",
       "      <th>7</th>\n",
       "      <td>2930.296</td>\n",
       "      <td>-6215.072</td>\n",
       "      <td>184.578</td>\n",
       "      <td>-391.485</td>\n",
       "      <td>440.470</td>\n",
       "      <td>-934.225</td>\n",
       "      <td>599.147</td>\n",
       "      <td>-1270.773</td>\n",
       "    </tr>\n",
       "    <tr>\n",
       "      <th>8</th>\n",
       "      <td>-0.000</td>\n",
       "      <td>0.000</td>\n",
       "      <td>0.000</td>\n",
       "      <td>-0.000</td>\n",
       "      <td>-0.000</td>\n",
       "      <td>0.000</td>\n",
       "      <td>0.000</td>\n",
       "      <td>-0.000</td>\n",
       "    </tr>\n",
       "  </tbody>\n",
       "</table>\n",
       "</div>"
      ],
      "text/plain": [
       "         DL               vSIDL               fSIDL                  LL  \\\n",
       "     tauTop  tauBottom   tauTop tauBottom    tauTop tauBottom    tauTop   \n",
       "0     0.000     -0.000    0.000    -0.000     0.000    -0.000     0.000   \n",
       "1  2930.296  -6215.072  184.578  -391.485   440.470  -934.225   573.202   \n",
       "2  5048.186 -10707.056  316.419  -671.116   755.092 -1601.528   986.587   \n",
       "3  6233.157 -13220.345  395.524  -838.896   943.865 -2001.910  1240.156   \n",
       "4  6699.617 -14209.692  421.893  -894.822  1006.789 -2135.371  1335.164   \n",
       "5  6233.157 -13220.345  395.524  -838.896   943.865 -2001.910  1282.870   \n",
       "6  5048.186 -10707.056  316.419  -671.116   755.092 -1601.528  1036.739   \n",
       "7  2930.296  -6215.072  184.578  -391.485   440.470  -934.225   599.147   \n",
       "8    -0.000      0.000    0.000    -0.000    -0.000     0.000     0.000   \n",
       "\n",
       "             \n",
       "  tauBottom  \n",
       "0    -0.000  \n",
       "1 -1215.744  \n",
       "2 -2092.522  \n",
       "3 -2630.335  \n",
       "4 -2831.845  \n",
       "5 -2720.930  \n",
       "6 -2198.893  \n",
       "7 -1270.773  \n",
       "8    -0.000  "
      ]
     },
     "execution_count": 72,
     "metadata": {},
     "output_type": "execute_result"
    }
   ],
   "source": [
    "iterables = [['DL', 'vSIDL', 'fSIDL', 'LL'], ['tauTop', 'tauBottom']]\n",
    "index = pd.MultiIndex.from_product(iterables)\n",
    "df_tau = pd.DataFrame(list(zip(list_tau_DLx, list_tau_DLy, list_tau_surfx, list_tau_surfy, list_tau_ODLx, list_tau_ODLy, list_tau_LLx, list_tau_LLy)), columns=index)\n",
    "df_tau.round(3)"
   ]
  },
  {
   "cell_type": "markdown",
   "id": "7583dd97",
   "metadata": {},
   "source": [
    "**Case 1: Rare combination I**"
   ]
  },
  {
   "cell_type": "markdown",
   "id": "09977741",
   "metadata": {},
   "source": [
    "RI = DL + PS@10%loss"
   ]
  },
  {
   "cell_type": "code",
   "execution_count": 73,
   "id": "c73d0c6d",
   "metadata": {
    "scrolled": true
   },
   "outputs": [
    {
     "data": {
      "text/plain": [
       "(array([2031.00209497, 5287.48838249, 6732.31988586, 7513.45527425,\n",
       "        7845.30333174, 7513.45527425, 6732.31988586, 5287.48838249,\n",
       "        2031.00209497]),\n",
       " array([10426.71196784, 12769.41511031,  9704.96956839,  8048.20415804,\n",
       "         7344.36409225,  8048.20415804,  9704.96956839, 12769.41511031,\n",
       "        10426.71196784]))"
      ]
     },
     "execution_count": 73,
     "metadata": {},
     "output_type": "execute_result"
    }
   ],
   "source": [
    "psf_RI = np.array([1, 0, 0, 0, 0.9]) #partial safety factor [DL, ODL, surf, LL, Ps] irc:6-2007 table B3\n",
    "\n",
    "tauTop_RI = psf_RI.dot(arr_stress_top) #resultant pressure top\n",
    "\n",
    "tauBot_RI = psf_RI.dot(arr_stress_bot) #resultant pressure bottom\n",
    "\n",
    "tauTop_RI, tauBot_RI"
   ]
  },
  {
   "cell_type": "markdown",
   "id": "a71e3ecc",
   "metadata": {},
   "source": [
    "table"
   ]
  },
  {
   "cell_type": "code",
   "execution_count": 77,
   "id": "5b107930",
   "metadata": {
    "scrolled": false
   },
   "outputs": [
    {
     "data": {
      "text/html": [
       "<div>\n",
       "<style scoped>\n",
       "    .dataframe tbody tr th:only-of-type {\n",
       "        vertical-align: middle;\n",
       "    }\n",
       "\n",
       "    .dataframe tbody tr th {\n",
       "        vertical-align: top;\n",
       "    }\n",
       "\n",
       "    .dataframe thead th {\n",
       "        text-align: right;\n",
       "    }\n",
       "</style>\n",
       "<table border=\"1\" class=\"dataframe\">\n",
       "  <thead>\n",
       "    <tr style=\"text-align: right;\">\n",
       "      <th></th>\n",
       "      <th>0</th>\n",
       "      <th>1</th>\n",
       "      <th>2</th>\n",
       "      <th>3</th>\n",
       "      <th>4</th>\n",
       "      <th>5</th>\n",
       "      <th>6</th>\n",
       "      <th>7</th>\n",
       "      <th>8</th>\n",
       "    </tr>\n",
       "  </thead>\n",
       "  <tbody>\n",
       "    <tr>\n",
       "      <th>station</th>\n",
       "      <td>0.000</td>\n",
       "      <td>7.500</td>\n",
       "      <td>15.00</td>\n",
       "      <td>22.500</td>\n",
       "      <td>30.000</td>\n",
       "      <td>37.500</td>\n",
       "      <td>45.00</td>\n",
       "      <td>52.500</td>\n",
       "      <td>60.000</td>\n",
       "    </tr>\n",
       "    <tr>\n",
       "      <th>Stress at top (kPa)</th>\n",
       "      <td>2031.002</td>\n",
       "      <td>5287.488</td>\n",
       "      <td>6732.32</td>\n",
       "      <td>7513.455</td>\n",
       "      <td>7845.303</td>\n",
       "      <td>7513.455</td>\n",
       "      <td>6732.32</td>\n",
       "      <td>5287.488</td>\n",
       "      <td>2031.002</td>\n",
       "    </tr>\n",
       "    <tr>\n",
       "      <th>Stress at bottom(kPa)</th>\n",
       "      <td>10426.712</td>\n",
       "      <td>12769.415</td>\n",
       "      <td>9704.97</td>\n",
       "      <td>8048.204</td>\n",
       "      <td>7344.364</td>\n",
       "      <td>8048.204</td>\n",
       "      <td>9704.97</td>\n",
       "      <td>12769.415</td>\n",
       "      <td>10426.712</td>\n",
       "    </tr>\n",
       "  </tbody>\n",
       "</table>\n",
       "</div>"
      ],
      "text/plain": [
       "                               0          1        2         3         4  \\\n",
       "station                    0.000      7.500    15.00    22.500    30.000   \n",
       "Stress at top (kPa)     2031.002   5287.488  6732.32  7513.455  7845.303   \n",
       "Stress at bottom(kPa)  10426.712  12769.415  9704.97  8048.204  7344.364   \n",
       "\n",
       "                              5        6          7          8  \n",
       "station                  37.500    45.00     52.500     60.000  \n",
       "Stress at top (kPa)    7513.455  6732.32   5287.488   2031.002  \n",
       "Stress at bottom(kPa)  8048.204  9704.97  12769.415  10426.712  "
      ]
     },
     "execution_count": 77,
     "metadata": {},
     "output_type": "execute_result"
    }
   ],
   "source": [
    "pd.DataFrame([sc, tauTop_RI, tauBot_RI], index= ['station', 'Stress at top (kPa)', 'Stress at bottom(kPa)']).round(3)"
   ]
  },
  {
   "cell_type": "markdown",
   "id": "7c288423",
   "metadata": {},
   "source": [
    "plot"
   ]
  },
  {
   "cell_type": "code",
   "execution_count": 85,
   "id": "01724624",
   "metadata": {},
   "outputs": [
    {
     "data": {
      "image/png": "[encoded data removed]",
      "text/plain": [
       "<Figure size 1152x216 with 1 Axes>"
      ]
     },
     "metadata": {
      "needs_background": "light"
     },
     "output_type": "display_data"
    }
   ],
   "source": [
    "f, ax = plt.subplots(figsize = (16,3))\n",
    "ax.plot(sc, tauTop_RI, label = 'stress @ top')\n",
    "ax.plot(sc, tauBot_RI, label = 'stress @ bottom')\n",
    "plt.legend()\n",
    "plt.show()"
   ]
  },
  {
   "cell_type": "markdown",
   "id": "260b7e1d",
   "metadata": {},
   "source": [
    "Allowable stresses"
   ]
  },
  {
   "cell_type": "code",
   "execution_count": 86,
   "id": "c2122404",
   "metadata": {},
   "outputs": [
    {
     "data": {
      "text/plain": [
       "(-3276, 16800)"
      ]
     },
     "execution_count": 86,
     "metadata": {},
     "output_type": "execute_result"
    }
   ],
   "source": [
    "tauTop_perm = -int(0.259*math.pow(fck, 2/3)*1000) #permissible stress on top (tensile) kN/m2\n",
    "\n",
    "tauBot_perm = int(0.48*35*1000) #permissible stress on top (compression) kN/m2\n",
    "tauTop_perm, tauBot_perm"
   ]
  },
  {
   "cell_type": "markdown",
   "id": "659330c8",
   "metadata": {},
   "source": [
    "check"
   ]
  },
  {
   "cell_type": "code",
   "execution_count": 87,
   "id": "9679c1a7",
   "metadata": {},
   "outputs": [
    {
     "name": "stdout",
     "output_type": "stream",
     "text": [
      "top ok\n",
      "bottom ok\n"
     ]
    }
   ],
   "source": [
    "if all(tauTop_RI>tauTop_perm) == True:\n",
    "    print('top ok')\n",
    "else:\n",
    "    print('top not ok')\n",
    "    \n",
    "if all(tauBot_RI<tauBot_perm) == True:\n",
    "    print('bottom ok')\n",
    "else:\n",
    "    print('bottom not ok')"
   ]
  },
  {
   "cell_type": "markdown",
   "id": "5390fe88",
   "metadata": {},
   "source": [
    "**Case 2: Rare combination II**"
   ]
  },
  {
   "cell_type": "markdown",
   "id": "b2c389e8",
   "metadata": {},
   "source": [
    "RII = DL + ODL + 1.2*Surf + 0.75*LL + PS@25%loss"
   ]
  },
  {
   "cell_type": "code",
   "execution_count": 98,
   "id": "bb1d809b",
   "metadata": {},
   "outputs": [
    {
     "data": {
      "text/plain": [
       "(array([ 1692.50174581,  5986.48815218,  8326.36640388,  9648.68329821,\n",
       "        10168.78913018,  9680.71886599,  8363.98047448,  6005.94705845,\n",
       "         1692.50174581]),\n",
       " array([ 8688.92663987,  7289.51962422,  2326.70599487,  -477.88962917,\n",
       "        -1581.01895213,  -545.83613549,  2246.92764654,  7248.24785071,\n",
       "         8688.92663987]))"
      ]
     },
     "execution_count": 98,
     "metadata": {},
     "output_type": "execute_result"
    }
   ],
   "source": [
    "psf_RII = np.array([1, 1, 1.2, 0.75, 0.75]) #partial safety factor [DL, ODL, surf, LL, PS] irc:6-2007 table B3\n",
    "\n",
    "tauTop_RII = psf_RII.dot(arr_stress_top) #resultant pressure top\n",
    "\n",
    "tauBot_RII = psf_RII.dot(arr_stress_bot) #resultant pressure bottom\n",
    "\n",
    "tauTop_RII, tauBot_RII"
   ]
  },
  {
   "cell_type": "markdown",
   "id": "cc691c3e",
   "metadata": {},
   "source": [
    "Allowable stresses"
   ]
  },
  {
   "cell_type": "code",
   "execution_count": 99,
   "id": "e3454b2c",
   "metadata": {},
   "outputs": [
    {
     "data": {
      "text/plain": [
       "(-3276, 12600)"
      ]
     },
     "execution_count": 99,
     "metadata": {},
     "output_type": "execute_result"
    }
   ],
   "source": [
    "tauTop_perm = -int(0.259*math.pow(fck, 2/3)*1000) #permissible stress on top (tensile) kN/m2\n",
    "\n",
    "tauBot_perm = int(0.36*35*1000) #permissible stress on top (compression) kN/m2\n",
    "tauTop_perm, tauBot_perm"
   ]
  },
  {
   "cell_type": "markdown",
   "id": "1e2058f0",
   "metadata": {},
   "source": [
    "table"
   ]
  },
  {
   "cell_type": "code",
   "execution_count": 100,
   "id": "c25f8938",
   "metadata": {
    "scrolled": false
   },
   "outputs": [
    {
     "data": {
      "text/html": [
       "<div>\n",
       "<style scoped>\n",
       "    .dataframe tbody tr th:only-of-type {\n",
       "        vertical-align: middle;\n",
       "    }\n",
       "\n",
       "    .dataframe tbody tr th {\n",
       "        vertical-align: top;\n",
       "    }\n",
       "\n",
       "    .dataframe thead th {\n",
       "        text-align: right;\n",
       "    }\n",
       "</style>\n",
       "<table border=\"1\" class=\"dataframe\">\n",
       "  <thead>\n",
       "    <tr style=\"text-align: right;\">\n",
       "      <th></th>\n",
       "      <th>0</th>\n",
       "      <th>1</th>\n",
       "      <th>2</th>\n",
       "      <th>3</th>\n",
       "      <th>4</th>\n",
       "      <th>5</th>\n",
       "      <th>6</th>\n",
       "      <th>7</th>\n",
       "      <th>8</th>\n",
       "    </tr>\n",
       "  </thead>\n",
       "  <tbody>\n",
       "    <tr>\n",
       "      <th>station</th>\n",
       "      <td>0.000</td>\n",
       "      <td>7.500</td>\n",
       "      <td>15.000</td>\n",
       "      <td>22.500</td>\n",
       "      <td>30.000</td>\n",
       "      <td>37.500</td>\n",
       "      <td>45.000</td>\n",
       "      <td>52.500</td>\n",
       "      <td>60.000</td>\n",
       "    </tr>\n",
       "    <tr>\n",
       "      <th>Stress at top (kPa)</th>\n",
       "      <td>1692.502</td>\n",
       "      <td>5986.488</td>\n",
       "      <td>8326.366</td>\n",
       "      <td>9648.683</td>\n",
       "      <td>10168.789</td>\n",
       "      <td>9680.719</td>\n",
       "      <td>8363.980</td>\n",
       "      <td>6005.947</td>\n",
       "      <td>1692.502</td>\n",
       "    </tr>\n",
       "    <tr>\n",
       "      <th>Stress at bottom(kPa)</th>\n",
       "      <td>8688.927</td>\n",
       "      <td>7289.520</td>\n",
       "      <td>2326.706</td>\n",
       "      <td>-477.890</td>\n",
       "      <td>-1581.019</td>\n",
       "      <td>-545.836</td>\n",
       "      <td>2246.928</td>\n",
       "      <td>7248.248</td>\n",
       "      <td>8688.927</td>\n",
       "    </tr>\n",
       "  </tbody>\n",
       "</table>\n",
       "</div>"
      ],
      "text/plain": [
       "                              0         1         2         3          4  \\\n",
       "station                   0.000     7.500    15.000    22.500     30.000   \n",
       "Stress at top (kPa)    1692.502  5986.488  8326.366  9648.683  10168.789   \n",
       "Stress at bottom(kPa)  8688.927  7289.520  2326.706  -477.890  -1581.019   \n",
       "\n",
       "                              5         6         7         8  \n",
       "station                  37.500    45.000    52.500    60.000  \n",
       "Stress at top (kPa)    9680.719  8363.980  6005.947  1692.502  \n",
       "Stress at bottom(kPa)  -545.836  2246.928  7248.248  8688.927  "
      ]
     },
     "execution_count": 100,
     "metadata": {},
     "output_type": "execute_result"
    }
   ],
   "source": [
    "pd.DataFrame([sc, tauTop_RII, tauBot_RII], index= ['station', 'Stress at top (kPa)', 'Stress at bottom(kPa)']).round(3)"
   ]
  },
  {
   "cell_type": "markdown",
   "id": "078feb67",
   "metadata": {},
   "source": [
    "plot"
   ]
  },
  {
   "cell_type": "code",
   "execution_count": 101,
   "id": "e8d660f6",
   "metadata": {},
   "outputs": [
    {
     "data": {
      "image/png": "[encoded data removed]",
      "text/plain": [
       "<Figure size 1152x216 with 1 Axes>"
      ]
     },
     "metadata": {
      "needs_background": "light"
     },
     "output_type": "display_data"
    }
   ],
   "source": [
    "f, ax = plt.subplots(figsize = (16,3))\n",
    "ax.plot(sc, tauTop_RII, label = 'stress @ top')\n",
    "ax.plot(sc, tauBot_RII, label = 'stress @ bottom')\n",
    "plt.legend()\n",
    "plt.show()"
   ]
  },
  {
   "cell_type": "markdown",
   "id": "4e538aa2",
   "metadata": {},
   "source": [
    "check"
   ]
  },
  {
   "cell_type": "code",
   "execution_count": 102,
   "id": "652cf4a8",
   "metadata": {
    "scrolled": false
   },
   "outputs": [
    {
     "name": "stdout",
     "output_type": "stream",
     "text": [
      "top ok\n",
      "bottom ok\n"
     ]
    }
   ],
   "source": [
    "if all(tauTop_RII>tauTop_perm) == True:\n",
    "    print('top ok')\n",
    "else:\n",
    "    print('top not ok')\n",
    "    \n",
    "if all(tauBot_RII<tauBot_perm) == True:\n",
    "    print('bottom ok')\n",
    "else:\n",
    "    print('bottom not ok')"
   ]
  },
  {
   "cell_type": "markdown",
   "id": "bef5ecec",
   "metadata": {},
   "source": [
    "**Case 3: Rare combination III**"
   ]
  },
  {
   "cell_type": "markdown",
   "id": "57e79bba",
   "metadata": {},
   "source": [
    "RII = DL + ODL + 1.2*Surf + LL + PS@25%loss"
   ]
  },
  {
   "cell_type": "code",
   "execution_count": 103,
   "id": "0463f6b6",
   "metadata": {},
   "outputs": [
    {
     "data": {
      "text/plain": [
       "(array([ 1692.50174581,  6129.78858465,  8573.01313743,  9958.72229806,\n",
       "        10502.58019851, 10001.43638843,  8623.16523156,  6155.73379301,\n",
       "         1692.50174581]),\n",
       " array([ 8688.92663987,  6985.58358019,  1803.57545592, -1135.47331883,\n",
       "        -2288.98008733, -1226.06866058,  1697.20432481,  6930.55454885,\n",
       "         8688.92663987]))"
      ]
     },
     "execution_count": 103,
     "metadata": {},
     "output_type": "execute_result"
    }
   ],
   "source": [
    "psf_RIII = np.array([1, 1, 1.2, 1, 0.75]) #partial safety factor [DL, ODL, surf, LL, PS] irc:6-2007 table B3\n",
    "\n",
    "tauTop_RIII = psf_RIII.dot(arr_stress_top) #resultant pressure top\n",
    "\n",
    "tauBot_RIII = psf_RIII.dot(arr_stress_bot) #resultant pressure bottom\n",
    "\n",
    "tauTop_RIII, tauBot_RIII"
   ]
  },
  {
   "cell_type": "markdown",
   "id": "9a3e26ca",
   "metadata": {},
   "source": [
    "Allowable stresses"
   ]
  },
  {
   "cell_type": "code",
   "execution_count": 104,
   "id": "7b6c5c63",
   "metadata": {},
   "outputs": [
    {
     "data": {
      "text/plain": [
       "(-3276, 16100)"
      ]
     },
     "execution_count": 104,
     "metadata": {},
     "output_type": "execute_result"
    }
   ],
   "source": [
    "tauTop_perm = -int(0.259*math.pow(fck, 2/3)*1000) #permissible stress on top (tensile) kN/m2\n",
    "\n",
    "tauBot_perm = int(0.46*35*1000) #permissible stress on top (compression) kN/m2\n",
    "tauTop_perm, tauBot_perm"
   ]
  },
  {
   "cell_type": "markdown",
   "id": "6f70ea98",
   "metadata": {},
   "source": [
    "table"
   ]
  },
  {
   "cell_type": "code",
   "execution_count": 105,
   "id": "a68a3c65",
   "metadata": {
    "scrolled": false
   },
   "outputs": [
    {
     "data": {
      "text/html": [
       "<div>\n",
       "<style scoped>\n",
       "    .dataframe tbody tr th:only-of-type {\n",
       "        vertical-align: middle;\n",
       "    }\n",
       "\n",
       "    .dataframe tbody tr th {\n",
       "        vertical-align: top;\n",
       "    }\n",
       "\n",
       "    .dataframe thead th {\n",
       "        text-align: right;\n",
       "    }\n",
       "</style>\n",
       "<table border=\"1\" class=\"dataframe\">\n",
       "  <thead>\n",
       "    <tr style=\"text-align: right;\">\n",
       "      <th></th>\n",
       "      <th>0</th>\n",
       "      <th>1</th>\n",
       "      <th>2</th>\n",
       "      <th>3</th>\n",
       "      <th>4</th>\n",
       "      <th>5</th>\n",
       "      <th>6</th>\n",
       "      <th>7</th>\n",
       "      <th>8</th>\n",
       "    </tr>\n",
       "  </thead>\n",
       "  <tbody>\n",
       "    <tr>\n",
       "      <th>station</th>\n",
       "      <td>0.000</td>\n",
       "      <td>7.500</td>\n",
       "      <td>15.000</td>\n",
       "      <td>22.500</td>\n",
       "      <td>30.00</td>\n",
       "      <td>37.500</td>\n",
       "      <td>45.000</td>\n",
       "      <td>52.500</td>\n",
       "      <td>60.000</td>\n",
       "    </tr>\n",
       "    <tr>\n",
       "      <th>Stress at top (kPa)</th>\n",
       "      <td>1692.502</td>\n",
       "      <td>6129.789</td>\n",
       "      <td>8573.013</td>\n",
       "      <td>9958.722</td>\n",
       "      <td>10502.58</td>\n",
       "      <td>10001.436</td>\n",
       "      <td>8623.165</td>\n",
       "      <td>6155.734</td>\n",
       "      <td>1692.502</td>\n",
       "    </tr>\n",
       "    <tr>\n",
       "      <th>Stress at bottom(kPa)</th>\n",
       "      <td>8688.927</td>\n",
       "      <td>6985.584</td>\n",
       "      <td>1803.575</td>\n",
       "      <td>-1135.473</td>\n",
       "      <td>-2288.98</td>\n",
       "      <td>-1226.069</td>\n",
       "      <td>1697.204</td>\n",
       "      <td>6930.555</td>\n",
       "      <td>8688.927</td>\n",
       "    </tr>\n",
       "  </tbody>\n",
       "</table>\n",
       "</div>"
      ],
      "text/plain": [
       "                              0         1         2         3         4  \\\n",
       "station                   0.000     7.500    15.000    22.500     30.00   \n",
       "Stress at top (kPa)    1692.502  6129.789  8573.013  9958.722  10502.58   \n",
       "Stress at bottom(kPa)  8688.927  6985.584  1803.575 -1135.473  -2288.98   \n",
       "\n",
       "                               5         6         7         8  \n",
       "station                   37.500    45.000    52.500    60.000  \n",
       "Stress at top (kPa)    10001.436  8623.165  6155.734  1692.502  \n",
       "Stress at bottom(kPa)  -1226.069  1697.204  6930.555  8688.927  "
      ]
     },
     "execution_count": 105,
     "metadata": {},
     "output_type": "execute_result"
    }
   ],
   "source": [
    "pd.DataFrame([sc, tauTop_RIII, tauBot_RIII], index= ['station', 'Stress at top (kPa)', 'Stress at bottom(kPa)']).round(3)"
   ]
  },
  {
   "cell_type": "markdown",
   "id": "7f67180b",
   "metadata": {},
   "source": [
    "plot"
   ]
  },
  {
   "cell_type": "code",
   "execution_count": 106,
   "id": "a295f225",
   "metadata": {},
   "outputs": [
    {
     "data": {
      "image/png": "[encoded data removed]",
      "text/plain": [
       "<Figure size 1152x216 with 1 Axes>"
      ]
     },
     "metadata": {
      "needs_background": "light"
     },
     "output_type": "display_data"
    }
   ],
   "source": [
    "f, ax = plt.subplots(figsize = (16,3))\n",
    "ax.plot(sc, tauTop_RII, label = 'stress @ top')\n",
    "ax.plot(sc, tauBot_RII, label = 'stress @ bottom')\n",
    "plt.legend()\n",
    "plt.show()"
   ]
  },
  {
   "cell_type": "markdown",
   "id": "d5f30a46",
   "metadata": {},
   "source": [
    "check"
   ]
  },
  {
   "cell_type": "code",
   "execution_count": 177,
   "id": "1a53c824",
   "metadata": {},
   "outputs": [
    {
     "name": "stdout",
     "output_type": "stream",
     "text": [
      "top ok\n",
      "bottom ok\n"
     ]
    }
   ],
   "source": [
    "if all(tauTop_RII>tauTop_perm) == True:\n",
    "    print('top ok')\n",
    "else:\n",
    "    print('top not ok')\n",
    "    \n",
    "if all(tauBot_RII<tauBot_perm) == True:\n",
    "    print('bottom ok')\n",
    "else:\n",
    "    print('bottom not ok')"
   ]
  },
  {
   "cell_type": "markdown",
   "id": "2dd10dd0",
   "metadata": {},
   "source": [
    "**Case 4: Permanent combination**"
   ]
  },
  {
   "cell_type": "markdown",
   "id": "2800594b",
   "metadata": {},
   "source": [
    "RII = DL + ODL + 1.2*Surf + 0.75*LL + PS@25%loss"
   ]
  },
  {
   "cell_type": "code",
   "execution_count": 178,
   "id": "3d98172d",
   "metadata": {},
   "outputs": [
    {
     "data": {
      "text/plain": [
       "(array([ 1692.50174581,  5986.48815218,  8326.36640388,  9648.68329821,\n",
       "        10168.78913018,  9680.71886599,  8363.98047448,  6005.94705845,\n",
       "         1692.50174581]),\n",
       " array([ 8688.92663987,  7289.51962422,  2326.70599487,  -477.88962917,\n",
       "        -1581.01895213,  -545.83613549,  2246.92764654,  7248.24785071,\n",
       "         8688.92663987]))"
      ]
     },
     "execution_count": 178,
     "metadata": {},
     "output_type": "execute_result"
    }
   ],
   "source": [
    "psf_P = np.array([1, 1, 1.2, 0.75, 0.75]) #partial safety factor [DL, ODL, surf, LL, PS] irc:6-2007 table B3\n",
    "\n",
    "tauTop_P = psf_P.dot(arr_stress_top) #resultant pressure top\n",
    "\n",
    "tauBot_P = psf_P.dot(arr_stress_bot) #resultant pressure bottom\n",
    "\n",
    "tauTop_P, tauBot_P"
   ]
  },
  {
   "cell_type": "code",
   "execution_count": 108,
   "id": "02d17f5d",
   "metadata": {},
   "outputs": [],
   "source": [
    "tauBot_P = np.array([ 8688.92663987,  7289.51962422,  2326.70599487, 1581.01895213,  477.88962917,\n",
    "         1581.01895213,  2246.92764654,  7248.24785071,\n",
    "         8688.92663987])"
   ]
  },
  {
   "cell_type": "markdown",
   "id": "3ec3186c",
   "metadata": {},
   "source": [
    "Allowable stresses"
   ]
  },
  {
   "cell_type": "code",
   "execution_count": 179,
   "id": "9f7f65da",
   "metadata": {},
   "outputs": [
    {
     "data": {
      "text/plain": [
       "(-3276, 12600)"
      ]
     },
     "execution_count": 179,
     "metadata": {},
     "output_type": "execute_result"
    }
   ],
   "source": [
    "tauTop_perm = -int(0.259*math.pow(fck, 2/3)*1000) #permissible stress on top (tensile) kN/m2\n",
    "\n",
    "tauBot_perm = int(0.36*35*1000) #permissible stress on top (compression) kN/m2\n",
    "tauTop_perm, tauBot_perm"
   ]
  },
  {
   "cell_type": "markdown",
   "id": "b9ae46c6",
   "metadata": {},
   "source": [
    "check"
   ]
  },
  {
   "cell_type": "code",
   "execution_count": 180,
   "id": "8656e048",
   "metadata": {},
   "outputs": [
    {
     "name": "stdout",
     "output_type": "stream",
     "text": [
      "top ok\n",
      "bottom ok\n"
     ]
    }
   ],
   "source": [
    "if all(tauTop_P>tauTop_perm) == True:\n",
    "    print('top ok')\n",
    "else:\n",
    "    print('top not ok')\n",
    "    \n",
    "if all(tauBot_P<tauBot_perm) == True:\n",
    "    print('bottom ok')\n",
    "else:\n",
    "    print('bottom not ok')"
   ]
  },
  {
   "cell_type": "markdown",
   "id": "2ad5f05d",
   "metadata": {},
   "source": [
    "**Case 5: Quasi-Permanent**"
   ]
  },
  {
   "cell_type": "markdown",
   "id": "9724a060",
   "metadata": {},
   "source": [
    "QP = DL + ODL + PS@25%loss"
   ]
  },
  {
   "cell_type": "code",
   "execution_count": 109,
   "id": "dae524c0",
   "metadata": {},
   "outputs": [
    {
     "data": {
      "text/plain": [
       "(array([1692.50174581, 5335.09323119, 7206.72284848, 8243.93710521,\n",
       "        8661.14478549, 8243.93710521, 7206.72284848, 5335.09323119,\n",
       "        1692.50174581]),\n",
       " array([8688.92663987, 8671.10928157, 4701.43736935, 2501.53613681,\n",
       "        1616.65079697, 2501.53613681, 4701.43736935, 8671.10928157,\n",
       "        8688.92663987]))"
      ]
     },
     "execution_count": 109,
     "metadata": {},
     "output_type": "execute_result"
    }
   ],
   "source": [
    "psf_QP = np.array([1, 1, 0, 0, 0.75]) #partial safety factor [DL, ODL, surf, LL, PS] irc:6-2007 table B3\n",
    "\n",
    "tauTop_QP = psf_QP.dot(arr_stress_top) #resultant pressure top\n",
    "\n",
    "tauBot_QP = psf_QP.dot(arr_stress_bot) #resultant pressure bottom\n",
    "\n",
    "tauTop_QP, tauBot_QP"
   ]
  },
  {
   "cell_type": "markdown",
   "id": "b3f4a805",
   "metadata": {},
   "source": [
    "Allowable stresses"
   ]
  },
  {
   "cell_type": "code",
   "execution_count": 110,
   "id": "e559099d",
   "metadata": {
    "scrolled": true
   },
   "outputs": [
    {
     "data": {
      "text/plain": [
       "(-3276, 12600)"
      ]
     },
     "execution_count": 110,
     "metadata": {},
     "output_type": "execute_result"
    }
   ],
   "source": [
    "tauTop_perm = -int(0.259*math.pow(fck, 2/3)*1000) #permissible stress on top (tensile) kN/m2\n",
    "\n",
    "tauBot_perm = int(0.36*35*1000) #permissible stress on top (compression) kN/m2\n",
    "tauTop_perm, tauBot_perm"
   ]
  },
  {
   "cell_type": "markdown",
   "id": "5d1d3d78",
   "metadata": {},
   "source": [
    "table"
   ]
  },
  {
   "cell_type": "code",
   "execution_count": 113,
   "id": "0c1652b0",
   "metadata": {
    "scrolled": false
   },
   "outputs": [
    {
     "data": {
      "text/html": [
       "<div>\n",
       "<style scoped>\n",
       "    .dataframe tbody tr th:only-of-type {\n",
       "        vertical-align: middle;\n",
       "    }\n",
       "\n",
       "    .dataframe tbody tr th {\n",
       "        vertical-align: top;\n",
       "    }\n",
       "\n",
       "    .dataframe thead th {\n",
       "        text-align: right;\n",
       "    }\n",
       "</style>\n",
       "<table border=\"1\" class=\"dataframe\">\n",
       "  <thead>\n",
       "    <tr style=\"text-align: right;\">\n",
       "      <th></th>\n",
       "      <th>0</th>\n",
       "      <th>1</th>\n",
       "      <th>2</th>\n",
       "      <th>3</th>\n",
       "      <th>4</th>\n",
       "      <th>5</th>\n",
       "      <th>6</th>\n",
       "      <th>7</th>\n",
       "      <th>8</th>\n",
       "    </tr>\n",
       "  </thead>\n",
       "  <tbody>\n",
       "    <tr>\n",
       "      <th>station</th>\n",
       "      <td>0.000</td>\n",
       "      <td>7.500</td>\n",
       "      <td>15.000</td>\n",
       "      <td>22.500</td>\n",
       "      <td>30.000</td>\n",
       "      <td>37.500</td>\n",
       "      <td>45.000</td>\n",
       "      <td>52.500</td>\n",
       "      <td>60.000</td>\n",
       "    </tr>\n",
       "    <tr>\n",
       "      <th>Stress at top (kPa)</th>\n",
       "      <td>1692.502</td>\n",
       "      <td>5335.093</td>\n",
       "      <td>7206.723</td>\n",
       "      <td>8243.937</td>\n",
       "      <td>8661.145</td>\n",
       "      <td>8243.937</td>\n",
       "      <td>7206.723</td>\n",
       "      <td>5335.093</td>\n",
       "      <td>1692.502</td>\n",
       "    </tr>\n",
       "    <tr>\n",
       "      <th>Stress at bottom(kPa)</th>\n",
       "      <td>8688.927</td>\n",
       "      <td>8671.109</td>\n",
       "      <td>4701.437</td>\n",
       "      <td>2501.536</td>\n",
       "      <td>1616.651</td>\n",
       "      <td>2501.536</td>\n",
       "      <td>4701.437</td>\n",
       "      <td>8671.109</td>\n",
       "      <td>8688.927</td>\n",
       "    </tr>\n",
       "  </tbody>\n",
       "</table>\n",
       "</div>"
      ],
      "text/plain": [
       "                              0         1         2         3         4  \\\n",
       "station                   0.000     7.500    15.000    22.500    30.000   \n",
       "Stress at top (kPa)    1692.502  5335.093  7206.723  8243.937  8661.145   \n",
       "Stress at bottom(kPa)  8688.927  8671.109  4701.437  2501.536  1616.651   \n",
       "\n",
       "                              5         6         7         8  \n",
       "station                  37.500    45.000    52.500    60.000  \n",
       "Stress at top (kPa)    8243.937  7206.723  5335.093  1692.502  \n",
       "Stress at bottom(kPa)  2501.536  4701.437  8671.109  8688.927  "
      ]
     },
     "execution_count": 113,
     "metadata": {},
     "output_type": "execute_result"
    }
   ],
   "source": [
    "pd.DataFrame([sc, tauTop_QP, tauBot_QP], index= ['station', 'Stress at top (kPa)', 'Stress at bottom(kPa)']).round(3)"
   ]
  },
  {
   "cell_type": "markdown",
   "id": "7d2a533e",
   "metadata": {},
   "source": [
    "plot"
   ]
  },
  {
   "cell_type": "code",
   "execution_count": 114,
   "id": "60e515c2",
   "metadata": {},
   "outputs": [
    {
     "data": {
      "image/png": "[encoded data removed]",
      "text/plain": [
       "<Figure size 1152x216 with 1 Axes>"
      ]
     },
     "metadata": {
      "needs_background": "light"
     },
     "output_type": "display_data"
    }
   ],
   "source": [
    "f, ax = plt.subplots(figsize = (16,3))\n",
    "ax.plot(sc, tauTop_QP, label = 'stress @ top')\n",
    "ax.plot(sc, tauBot_QP, label = 'stress @ bottom')\n",
    "plt.legend()\n",
    "plt.show()"
   ]
  },
  {
   "cell_type": "markdown",
   "id": "eaddffb3",
   "metadata": {},
   "source": [
    "check"
   ]
  },
  {
   "cell_type": "code",
   "execution_count": 111,
   "id": "8f6c8d3f",
   "metadata": {},
   "outputs": [
    {
     "name": "stdout",
     "output_type": "stream",
     "text": [
      "top ok\n",
      "bottom ok\n"
     ]
    }
   ],
   "source": [
    "if all(tauTop_QP>tauTop_perm) == True:\n",
    "    print('top ok')\n",
    "else:\n",
    "    print('top not ok')\n",
    "    \n",
    "if all(tauBot_QP<tauBot_perm) == True:\n",
    "    print('bottom ok')\n",
    "else:\n",
    "    print('bottom not ok')"
   ]
  },
  {
   "cell_type": "code",
   "execution_count": 112,
   "id": "f298b059",
   "metadata": {
    "scrolled": true
   },
   "outputs": [
    {
     "data": {
      "text/plain": [
       "(array([1692.50174581, 5335.09323119, 7206.72284848, 8243.93710521,\n",
       "        8661.14478549, 8243.93710521, 7206.72284848, 5335.09323119,\n",
       "        1692.50174581]),\n",
       " array([8688.92663987, 8671.10928157, 4701.43736935, 2501.53613681,\n",
       "        1616.65079697, 2501.53613681, 4701.43736935, 8671.10928157,\n",
       "        8688.92663987]))"
      ]
     },
     "execution_count": 112,
     "metadata": {},
     "output_type": "execute_result"
    }
   ],
   "source": [
    "tauTop_QP, tauBot_QP"
   ]
  },
  {
   "cell_type": "markdown",
   "id": "51a6b971",
   "metadata": {},
   "source": [
    "### Ultimate strength Check"
   ]
  },
  {
   "cell_type": "markdown",
   "id": "a8727276",
   "metadata": {},
   "source": [
    "material property cable"
   ]
  },
  {
   "cell_type": "code",
   "execution_count": 114,
   "id": "62a445f7",
   "metadata": {},
   "outputs": [],
   "source": [
    "nos = 19 # input number of strand\n",
    "art = 98.7 # input area of one tendon mm\n",
    "\n",
    "fpk = 1860 # breaking stress\n",
    "es = 195000 # modulus of elasticity"
   ]
  },
  {
   "cell_type": "markdown",
   "id": "d93ac0b8",
   "metadata": {},
   "source": [
    "#### calculation of effective depth and xulim"
   ]
  },
  {
   "cell_type": "markdown",
   "id": "349923be",
   "metadata": {},
   "source": [
    "##### effective depth\n",
    "eff depth = depth - $\\frac{\\displaystyle\\sum_{i=1} ^{j} y*n}{\\displaystyle\\sum_{i=1} ^{j} n}$\n",
    "\n",
    "where,<br>\n",
    "n = no of cables in layer i <br>\n",
    "y = depth from bottom <br>\n",
    "j represents total number of layer <br><br><br>\n",
    "\n",
    "##### xu lim\n",
    "$x_{u,\\ lim\\ }=\\ \\frac{\\epsilon_{cu2}}{\\epsilon_{cu2}+\\ \\epsilon}$<br>\n",
    "where,<br>\n",
    "$\\epsilon$ = design strain = fpd/Es"
   ]
  },
  {
   "cell_type": "code",
   "execution_count": 115,
   "id": "c313b893",
   "metadata": {},
   "outputs": [],
   "source": [
    "depth = sections[0].position[3][1] + sections[0].height[3] - sections[0].position[1][1] #input dept from slab top to bottom mm\n",
    "n = cable_no #input number of cables\n",
    "effd = [] #effective depth at different sections\n",
    "xulim = [] #limiting depth\n",
    "for i in sections:\n",
    "    cpx, cpy = zip(*i.cableprop)\n",
    "    arr_y = np.array(list(set(cpy)))\n",
    "    arr_n = np.array([cpy.count(i) for i in set(cpy)])\n",
    "    ed = depth - sum(arr_y*arr_n)/n\n",
    "\n",
    "    xul = ecu2/(ecu2+e)*ed\n",
    "    \n",
    "    effd.append(ed)\n",
    "    xulim.append(xul)"
   ]
  },
  {
   "cell_type": "markdown",
   "id": "ec1201da",
   "metadata": {},
   "source": [
    "Adopted Stress Strain Curve for Ultimate Strength Check"
   ]
  },
  {
   "cell_type": "code",
   "execution_count": 116,
   "id": "81ea8b70",
   "metadata": {},
   "outputs": [],
   "source": [
    "ecu2 = 0.0035\n",
    "ec2 = 0.0020\n",
    "\n",
    "fp0 = fpk*0.87\n",
    "fpd = fp0/1.15\n",
    "\n",
    "e = fpd/es #design strain"
   ]
  },
  {
   "cell_type": "markdown",
   "id": "4a82d9c1",
   "metadata": {},
   "source": [
    "strain-stress concrete"
   ]
  },
  {
   "cell_type": "code",
   "execution_count": 117,
   "id": "78a726cf",
   "metadata": {},
   "outputs": [],
   "source": [
    "def stress(ec2, fck):\n",
    "    \"\"\"\n",
    "    stress strain relationship. refer to IRC: 112-2020 Cl. 6.4.2.8\n",
    "    :param ec2: strain\n",
    "    :param fck: fck of concrete\n",
    "    :return: stress for giver strain ec2 for concrete of grade fck\n",
    "    \"\"\"\n",
    "    if ec2 < 0:\n",
    "        stress = 0\n",
    "    elif 0 <= ec2 <= 0.002:\n",
    "        stress = 0.67*fck/1.5 * (1 - np.power((1 - ec2 / 0.002), 2))\n",
    "    else:\n",
    "        stress = 0.67*fck/1.5\n",
    "    return stress"
   ]
  },
  {
   "cell_type": "code",
   "execution_count": 118,
   "id": "ee930358",
   "metadata": {},
   "outputs": [],
   "source": [
    "def interpolate_e(etop, ebot, depth, y):\n",
    "    \"\"\"\n",
    "    interpolate strain at certain depth from bottom\n",
    "    :param etop: strain at top\n",
    "    :param ebot: strain at bottom\n",
    "    :param y: distance at which e is required (from bottom)\n",
    "    :param d: depth of section\n",
    "    :return: strain\n",
    "    \"\"\"\n",
    "    \n",
    "    e = etop + (ebot-etop)/depth*(depth-y)\n",
    "    return e"
   ]
  },
  {
   "cell_type": "markdown",
   "id": "d8b34313",
   "metadata": {},
   "source": []
  },
  {
   "cell_type": "markdown",
   "id": "07d5891e",
   "metadata": {},
   "source": []
  },
  {
   "cell_type": "markdown",
   "id": "342e0e58",
   "metadata": {},
   "source": []
  },
  {
   "cell_type": "markdown",
   "id": "25e86c03",
   "metadata": {},
   "source": [
    "Neutral axis\n",
    "NA=$\\ \\frac{depth}{\\epsilon_{cu2}\\ -\\ \\epsilon_{bot}}\\times(0-\\epsilon_{bot})$"
   ]
  },
  {
   "cell_type": "code",
   "execution_count": 119,
   "id": "c472cdf1",
   "metadata": {
    "scrolled": true
   },
   "outputs": [],
   "source": [
    "etop = 0.0035\n",
    "ebot = -0.02\n",
    "\n",
    "def na(etop, ebot, depth):\n",
    "    \"\"\"\n",
    "    interpolate neutral axis\n",
    "    :param etop: strain at top\n",
    "    :param ebot: strain at bottom\n",
    "    :param depth: depth of section\n",
    "    :return: depth of neutral axis from bottom\n",
    "    \"\"\"\n",
    "    na = depth/(ecu2 - ebot)*-ebot\n",
    "    return na\n",
    "\n",
    "NA = na(etop, ebot, depth)"
   ]
  },
  {
   "cell_type": "markdown",
   "id": "d2e2ce22",
   "metadata": {},
   "source": [
    "dividing section to number of stripes"
   ]
  },
  {
   "attachments": {
    "image.png": {
     "image/png": "[encoded data removed]"
    }
   },
   "cell_type": "markdown",
   "id": "349113bc",
   "metadata": {},
   "source": [
    "![image.png](attachment:image.png)"
   ]
  },
  {
   "cell_type": "code",
   "execution_count": 100,
   "id": "8dac995c",
   "metadata": {
    "scrolled": false
   },
   "outputs": [],
   "source": [
    "depth = sections[0].position[3][1] + sections[0].height[3] - sections[0].position[1][1] #input dept from slab top to bottom mm\n",
    "\n",
    "i = 0\n",
    "topslab1_b = sections[i].position[5][0]+sections[i].length[5] - (sections[i].position[4][0]) # total width upto cantiliver form top\n",
    "topslab1_d = sections[i].height[4]\n",
    "topslab1_pos = sections[i].position[4][1] + topslab1_d/2\n",
    "\n",
    "topslab2_b = sections[i].length[0] + sections[i].length[1] + sections[i].length[2]\n",
    "topslab2_d = sections[i].height[3] - sections[i].height[4]\n",
    "topslab2_pos = topslab1_pos - (topslab1_d+topslab2_d)/2\n",
    "\n",
    "stripes = [[topslab1_b, topslab1_d, topslab1_pos], [topslab2_b, topslab2_d, topslab2_pos]] #[[width, depth, pos]]\n",
    "\n",
    "n = 10 #no of division\n",
    "web_d = (depth - sections[i].height[3] - sections[i].height[2])/n #depth each stripes of web without top and bottom slab\n",
    "web_b = sections[i].length[0]*2\n",
    "\n",
    "for j in range(n):\n",
    "    stripe_pos = sections[i].position[3][1] - web_d/2 - j*web_d\n",
    "    stripes.append([web_b, web_d, stripe_pos])\n",
    "\n",
    "botslab_b = topslab2_b\n",
    "botslab_d = sections[i].height[2]\n",
    "botslab_pos = sections[i].position[2][1] + botslab_d/2\n",
    "stripes.append([botslab_b, botslab_d, botslab_pos])"
   ]
  },
  {
   "cell_type": "markdown",
   "id": "0ec1c3eb",
   "metadata": {},
   "source": [
    "distance to top of stripes from bottom"
   ]
  },
  {
   "cell_type": "code",
   "execution_count": 101,
   "id": "6f33717b",
   "metadata": {},
   "outputs": [],
   "source": [
    "# depth = sections[0].position[3][1] + sections[0].height[3] - sections[0].position[1][1] #input dept from slab top to bottom mm\n",
    "\n",
    "int_dep = depth\n",
    "dist = [int_dep] # list of distance to top of stripes from bottom\n",
    "for i in stripes:\n",
    "    dep = round(int_dep-i[1], 5)\n",
    "    dist.append(dep)\n",
    "    int_dep = dep"
   ]
  },
  {
   "cell_type": "code",
   "execution_count": 102,
   "id": "4f13ff22",
   "metadata": {
    "scrolled": true
   },
   "outputs": [],
   "source": [
    "strn = [interpolate_e(etop, ebot, depth, i) for i in dist]\n",
    "strs = [stress(i, fck) for i in strn]"
   ]
  },
  {
   "attachments": {
    "image.png": {
     "image/png": "[encoded data removed]"
    }
   },
   "cell_type": "markdown",
   "id": "bb436156",
   "metadata": {},
   "source": [
    "strain-stress steel![image.png](attachment:image.png)"
   ]
  },
  {
   "cell_type": "code",
   "execution_count": 103,
   "id": "a519a2f4",
   "metadata": {},
   "outputs": [],
   "source": [
    "eud = 0.002 #sp105, pg 25\n",
    "euk = eud/0.9\n",
    "\n",
    "tau_0 = 0\n",
    "tau_e = fpd\n",
    "tau_eud = fp0\n",
    "tau_euk = (tau_e-tau_eud)/(e-eud)*(euk-eud) + tau_eud\n",
    "\n",
    "\n",
    "st_st = [-euk, -eud, -e, 0, e, eud, euk] #possible strain range\n",
    "tau_st = [-tau_euk, -tau_eud, -tau_e, -tau_0, tau_e, tau_eud, tau_euk]"
   ]
  },
  {
   "cell_type": "code",
   "execution_count": null,
   "id": "6eddf50a",
   "metadata": {},
   "outputs": [],
   "source": []
  },
  {
   "cell_type": "markdown",
   "id": "b8054bbe",
   "metadata": {},
   "source": [
    "stress, area, force, moment of stripes in compression due of concrete"
   ]
  },
  {
   "cell_type": "code",
   "execution_count": 104,
   "id": "e407e3f2",
   "metadata": {},
   "outputs": [
    {
     "data": {
      "text/html": [
       "<div>\n",
       "<style scoped>\n",
       "    .dataframe tbody tr th:only-of-type {\n",
       "        vertical-align: middle;\n",
       "    }\n",
       "\n",
       "    .dataframe tbody tr th {\n",
       "        vertical-align: top;\n",
       "    }\n",
       "\n",
       "    .dataframe thead th {\n",
       "        text-align: right;\n",
       "    }\n",
       "</style>\n",
       "<table border=\"1\" class=\"dataframe\">\n",
       "  <thead>\n",
       "    <tr style=\"text-align: right;\">\n",
       "      <th></th>\n",
       "      <th>Position</th>\n",
       "      <th>Stress</th>\n",
       "      <th>Area</th>\n",
       "      <th>Force</th>\n",
       "      <th>Moment</th>\n",
       "    </tr>\n",
       "  </thead>\n",
       "  <tbody>\n",
       "    <tr>\n",
       "      <th>0</th>\n",
       "      <td>3.125</td>\n",
       "      <td>20.100000</td>\n",
       "      <td>1.380</td>\n",
       "      <td>27738.000000</td>\n",
       "      <td>11139.462766</td>\n",
       "    </tr>\n",
       "    <tr>\n",
       "      <th>1</th>\n",
       "      <td>2.975</td>\n",
       "      <td>18.857858</td>\n",
       "      <td>0.840</td>\n",
       "      <td>15840.600952</td>\n",
       "      <td>3985.427793</td>\n",
       "    </tr>\n",
       "    <tr>\n",
       "      <th>2</th>\n",
       "      <td>2.780</td>\n",
       "      <td>8.807858</td>\n",
       "      <td>0.288</td>\n",
       "      <td>2536.663184</td>\n",
       "      <td>143.564342</td>\n",
       "    </tr>\n",
       "    <tr>\n",
       "      <th>3</th>\n",
       "      <td>2.540</td>\n",
       "      <td>0.000000</td>\n",
       "      <td>0.288</td>\n",
       "      <td>0.000000</td>\n",
       "      <td>-0.000000</td>\n",
       "    </tr>\n",
       "    <tr>\n",
       "      <th>4</th>\n",
       "      <td>2.300</td>\n",
       "      <td>0.000000</td>\n",
       "      <td>0.288</td>\n",
       "      <td>0.000000</td>\n",
       "      <td>-0.000000</td>\n",
       "    </tr>\n",
       "    <tr>\n",
       "      <th>5</th>\n",
       "      <td>2.060</td>\n",
       "      <td>0.000000</td>\n",
       "      <td>0.288</td>\n",
       "      <td>0.000000</td>\n",
       "      <td>-0.000000</td>\n",
       "    </tr>\n",
       "    <tr>\n",
       "      <th>6</th>\n",
       "      <td>1.820</td>\n",
       "      <td>0.000000</td>\n",
       "      <td>0.288</td>\n",
       "      <td>0.000000</td>\n",
       "      <td>-0.000000</td>\n",
       "    </tr>\n",
       "    <tr>\n",
       "      <th>7</th>\n",
       "      <td>1.580</td>\n",
       "      <td>0.000000</td>\n",
       "      <td>0.288</td>\n",
       "      <td>0.000000</td>\n",
       "      <td>-0.000000</td>\n",
       "    </tr>\n",
       "    <tr>\n",
       "      <th>8</th>\n",
       "      <td>1.340</td>\n",
       "      <td>0.000000</td>\n",
       "      <td>0.288</td>\n",
       "      <td>0.000000</td>\n",
       "      <td>-0.000000</td>\n",
       "    </tr>\n",
       "    <tr>\n",
       "      <th>9</th>\n",
       "      <td>1.100</td>\n",
       "      <td>0.000000</td>\n",
       "      <td>0.288</td>\n",
       "      <td>0.000000</td>\n",
       "      <td>-0.000000</td>\n",
       "    </tr>\n",
       "    <tr>\n",
       "      <th>10</th>\n",
       "      <td>0.860</td>\n",
       "      <td>0.000000</td>\n",
       "      <td>0.288</td>\n",
       "      <td>0.000000</td>\n",
       "      <td>-0.000000</td>\n",
       "    </tr>\n",
       "    <tr>\n",
       "      <th>11</th>\n",
       "      <td>0.620</td>\n",
       "      <td>0.000000</td>\n",
       "      <td>0.288</td>\n",
       "      <td>0.000000</td>\n",
       "      <td>-0.000000</td>\n",
       "    </tr>\n",
       "    <tr>\n",
       "      <th>12</th>\n",
       "      <td>0.250</td>\n",
       "      <td>0.000000</td>\n",
       "      <td>2.800</td>\n",
       "      <td>0.000000</td>\n",
       "      <td>-0.000000</td>\n",
       "    </tr>\n",
       "  </tbody>\n",
       "</table>\n",
       "</div>"
      ],
      "text/plain": [
       "    Position     Stress   Area         Force        Moment\n",
       "0      3.125  20.100000  1.380  27738.000000  11139.462766\n",
       "1      2.975  18.857858  0.840  15840.600952   3985.427793\n",
       "2      2.780   8.807858  0.288   2536.663184    143.564342\n",
       "3      2.540   0.000000  0.288      0.000000     -0.000000\n",
       "4      2.300   0.000000  0.288      0.000000     -0.000000\n",
       "5      2.060   0.000000  0.288      0.000000     -0.000000\n",
       "6      1.820   0.000000  0.288      0.000000     -0.000000\n",
       "7      1.580   0.000000  0.288      0.000000     -0.000000\n",
       "8      1.340   0.000000  0.288      0.000000     -0.000000\n",
       "9      1.100   0.000000  0.288      0.000000     -0.000000\n",
       "10     0.860   0.000000  0.288      0.000000     -0.000000\n",
       "11     0.620   0.000000  0.288      0.000000     -0.000000\n",
       "12     0.250   0.000000  2.800      0.000000     -0.000000"
      ]
     },
     "metadata": {},
     "output_type": "display_data"
    }
   ],
   "source": [
    "stripe_strs = [(strs[j]+strs[j+1])/2 for j in range(len(strs)-1)] #average stress of stripes\n",
    "stripe_area = [j[0]*j[1] for j in stripes]\n",
    "stripe_force = [stripe_strs[j]*stripe_area[j]*1000 for j in range(len(stripes))]\n",
    "stripe_pos = [j[2] for j in stripes]\n",
    "stripe_mom = [stripe_force[j]*(stripe_pos[j]-NA) for j in range(len(stripes))]\n",
    "\n",
    "df_comp = pd.DataFrame([stripe_pos, stripe_strs, stripe_area, stripe_force, stripe_mom], index = ['Position', 'Stress', 'Area', 'Force', 'Moment'])\n",
    "display(df_comp.T)"
   ]
  },
  {
   "cell_type": "markdown",
   "id": "2fcc3ca3",
   "metadata": {},
   "source": [
    "Cable layer"
   ]
  },
  {
   "cell_type": "code",
   "execution_count": 105,
   "id": "0d8643d1",
   "metadata": {},
   "outputs": [],
   "source": [
    "cpx, cpy = zip(*sections[0].cableprop)\n",
    "\n",
    "cab_y = sorted(list(set(cpy)))\n",
    "cab_layer = [[y, cpy.count(y)] for y in cab_y]  #[[y of cable from bottom, no of cables]]"
   ]
  },
  {
   "cell_type": "code",
   "execution_count": 110,
   "id": "070c22fc",
   "metadata": {},
   "outputs": [
    {
     "data": {
      "text/html": [
       "<div>\n",
       "<style scoped>\n",
       "    .dataframe tbody tr th:only-of-type {\n",
       "        vertical-align: middle;\n",
       "    }\n",
       "\n",
       "    .dataframe tbody tr th {\n",
       "        vertical-align: top;\n",
       "    }\n",
       "\n",
       "    .dataframe thead th {\n",
       "        text-align: right;\n",
       "    }\n",
       "</style>\n",
       "<table border=\"1\" class=\"dataframe\">\n",
       "  <thead>\n",
       "    <tr style=\"text-align: right;\">\n",
       "      <th></th>\n",
       "      <th>Position</th>\n",
       "      <th>Stress</th>\n",
       "      <th>Area</th>\n",
       "      <th>Force</th>\n",
       "      <th>Moment</th>\n",
       "    </tr>\n",
       "  </thead>\n",
       "  <tbody>\n",
       "    <tr>\n",
       "      <th>0</th>\n",
       "      <td>0.25</td>\n",
       "      <td>-1609.207694</td>\n",
       "      <td>13127.1</td>\n",
       "      <td>-21124.230324</td>\n",
       "      <td>52248.761173</td>\n",
       "    </tr>\n",
       "    <tr>\n",
       "      <th>1</th>\n",
       "      <td>0.65</td>\n",
       "      <td>-1609.207694</td>\n",
       "      <td>3750.6</td>\n",
       "      <td>-6035.494378</td>\n",
       "      <td>12514.019727</td>\n",
       "    </tr>\n",
       "    <tr>\n",
       "      <th>2</th>\n",
       "      <td>1.05</td>\n",
       "      <td>-1609.207694</td>\n",
       "      <td>3750.6</td>\n",
       "      <td>-6035.494378</td>\n",
       "      <td>10099.821975</td>\n",
       "    </tr>\n",
       "    <tr>\n",
       "      <th>3</th>\n",
       "      <td>1.45</td>\n",
       "      <td>-1609.207694</td>\n",
       "      <td>3750.6</td>\n",
       "      <td>-6035.494378</td>\n",
       "      <td>7685.624224</td>\n",
       "    </tr>\n",
       "    <tr>\n",
       "      <th>4</th>\n",
       "      <td>1.85</td>\n",
       "      <td>-1609.207694</td>\n",
       "      <td>3750.6</td>\n",
       "      <td>-6035.494378</td>\n",
       "      <td>5271.426473</td>\n",
       "    </tr>\n",
       "    <tr>\n",
       "      <th>5</th>\n",
       "      <td>2.25</td>\n",
       "      <td>-1609.207694</td>\n",
       "      <td>3750.6</td>\n",
       "      <td>-6035.494378</td>\n",
       "      <td>2857.228722</td>\n",
       "    </tr>\n",
       "  </tbody>\n",
       "</table>\n",
       "</div>"
      ],
      "text/plain": [
       "   Position       Stress     Area         Force        Moment\n",
       "0      0.25 -1609.207694  13127.1 -21124.230324  52248.761173\n",
       "1      0.65 -1609.207694   3750.6  -6035.494378  12514.019727\n",
       "2      1.05 -1609.207694   3750.6  -6035.494378  10099.821975\n",
       "3      1.45 -1609.207694   3750.6  -6035.494378   7685.624224\n",
       "4      1.85 -1609.207694   3750.6  -6035.494378   5271.426473\n",
       "5      2.25 -1609.207694   3750.6  -6035.494378   2857.228722"
      ]
     },
     "execution_count": 110,
     "metadata": {},
     "output_type": "execute_result"
    }
   ],
   "source": [
    "cab_pos = cab_y\n",
    "cab_strn = [interpolate_e(etop, ebot, depth, j) for j in cab_pos]\n",
    "cab_strs = [np.interp(x, st_st, tau_st) for x in cab_strn]\n",
    "cab_area = [nos*art * n[1] for n in cab_layer]\n",
    "cab_force = [cab_strs[j]*cab_area[j]/1000 for j in range(len(cab_layer))]\n",
    "cab_mom = [cab_force[j]*(cab_pos[j]-NA) for j in range(len(cab_layer))]\n",
    "\n",
    "df_tens = pd.DataFrame([cab_pos, cab_strs, cab_area, cab_force, cab_mom], index = ['Position', 'Stress', 'Area', 'Force', 'Moment'])\n",
    "df_tens.T"
   ]
  },
  {
   "cell_type": "code",
   "execution_count": 121,
   "id": "c8c2aa14",
   "metadata": {},
   "outputs": [
    {
     "ename": "KeyboardInterrupt",
     "evalue": "",
     "output_type": "error",
     "traceback": [
      "\u001b[1;31m---------------------------------------------------------------------------\u001b[0m",
      "\u001b[1;31mKeyboardInterrupt\u001b[0m                         Traceback (most recent call last)",
      "Input \u001b[1;32mIn [121]\u001b[0m, in \u001b[0;36m<module>\u001b[1;34m\u001b[0m\n\u001b[0;32m     72\u001b[0m cab_mom \u001b[38;5;241m=\u001b[39m [cab_force[j]\u001b[38;5;241m*\u001b[39m(cab_pos[j]\u001b[38;5;241m-\u001b[39mNA) \u001b[38;5;28;01mfor\u001b[39;00m j \u001b[38;5;129;01min\u001b[39;00m \u001b[38;5;28mrange\u001b[39m(\u001b[38;5;28mlen\u001b[39m(cab_layer))]\n\u001b[0;32m     74\u001b[0m df_tens \u001b[38;5;241m=\u001b[39m pd\u001b[38;5;241m.\u001b[39mDataFrame([cab_pos, cab_strs, cab_area, cab_force, cab_mom], index \u001b[38;5;241m=\u001b[39m [\u001b[38;5;124m'\u001b[39m\u001b[38;5;124mPosition\u001b[39m\u001b[38;5;124m'\u001b[39m, \u001b[38;5;124m'\u001b[39m\u001b[38;5;124mStress\u001b[39m\u001b[38;5;124m'\u001b[39m, \u001b[38;5;124m'\u001b[39m\u001b[38;5;124mArea\u001b[39m\u001b[38;5;124m'\u001b[39m, \u001b[38;5;124m'\u001b[39m\u001b[38;5;124mForce\u001b[39m\u001b[38;5;124m'\u001b[39m, \u001b[38;5;124m'\u001b[39m\u001b[38;5;124mMoment\u001b[39m\u001b[38;5;124m'\u001b[39m])\n\u001b[1;32m---> 77\u001b[0m sum_mc \u001b[38;5;241m=\u001b[39m \u001b[43mdf_comp\u001b[49m\u001b[38;5;241;43m.\u001b[39;49m\u001b[43mT\u001b[49m\u001b[38;5;241;43m.\u001b[39;49m\u001b[43msum\u001b[49m\u001b[43m(\u001b[49m\u001b[43m)\u001b[49m[\u001b[38;5;241m-\u001b[39m\u001b[38;5;241m1\u001b[39m]\n\u001b[0;32m     78\u001b[0m sum_mt \u001b[38;5;241m=\u001b[39m df_tens\u001b[38;5;241m.\u001b[39mT\u001b[38;5;241m.\u001b[39msum()[\u001b[38;5;241m-\u001b[39m\u001b[38;5;241m1\u001b[39m]\n\u001b[0;32m     80\u001b[0m ebot \u001b[38;5;241m=\u001b[39m ebot \u001b[38;5;241m-\u001b[39m \u001b[38;5;241m0.00001\u001b[39m\n",
      "File \u001b[1;32m~\\anaconda3\\envs\\PSC_bridge\\lib\\site-packages\\pandas\\core\\generic.py:10708\u001b[0m, in \u001b[0;36mNDFrame._add_numeric_operations.<locals>.sum\u001b[1;34m(self, axis, skipna, level, numeric_only, min_count, **kwargs)\u001b[0m\n\u001b[0;32m  10688\u001b[0m \u001b[38;5;129m@doc\u001b[39m(\n\u001b[0;32m  10689\u001b[0m     _num_doc,\n\u001b[0;32m  10690\u001b[0m     desc\u001b[38;5;241m=\u001b[39m\u001b[38;5;124m\"\u001b[39m\u001b[38;5;124mReturn the sum of the values over the requested axis.\u001b[39m\u001b[38;5;130;01m\\n\u001b[39;00m\u001b[38;5;130;01m\\n\u001b[39;00m\u001b[38;5;124m\"\u001b[39m\n\u001b[1;32m   (...)\u001b[0m\n\u001b[0;32m  10706\u001b[0m     \u001b[38;5;241m*\u001b[39m\u001b[38;5;241m*\u001b[39mkwargs,\n\u001b[0;32m  10707\u001b[0m ):\n\u001b[1;32m> 10708\u001b[0m     \u001b[38;5;28;01mreturn\u001b[39;00m NDFrame\u001b[38;5;241m.\u001b[39msum(\n\u001b[0;32m  10709\u001b[0m         \u001b[38;5;28mself\u001b[39m, axis, skipna, level, numeric_only, min_count, \u001b[38;5;241m*\u001b[39m\u001b[38;5;241m*\u001b[39mkwargs\n\u001b[0;32m  10710\u001b[0m     )\n",
      "File \u001b[1;32m~\\anaconda3\\envs\\PSC_bridge\\lib\\site-packages\\pandas\\core\\generic.py:10446\u001b[0m, in \u001b[0;36mNDFrame.sum\u001b[1;34m(self, axis, skipna, level, numeric_only, min_count, **kwargs)\u001b[0m\n\u001b[0;32m  10437\u001b[0m \u001b[38;5;28;01mdef\u001b[39;00m \u001b[38;5;21msum\u001b[39m(\n\u001b[0;32m  10438\u001b[0m     \u001b[38;5;28mself\u001b[39m,\n\u001b[0;32m  10439\u001b[0m     axis\u001b[38;5;241m=\u001b[39m\u001b[38;5;28;01mNone\u001b[39;00m,\n\u001b[1;32m   (...)\u001b[0m\n\u001b[0;32m  10444\u001b[0m     \u001b[38;5;241m*\u001b[39m\u001b[38;5;241m*\u001b[39mkwargs,\n\u001b[0;32m  10445\u001b[0m ):\n\u001b[1;32m> 10446\u001b[0m     \u001b[38;5;28;01mreturn\u001b[39;00m \u001b[38;5;28mself\u001b[39m\u001b[38;5;241m.\u001b[39m_min_count_stat_function(\n\u001b[0;32m  10447\u001b[0m         \u001b[38;5;124m\"\u001b[39m\u001b[38;5;124msum\u001b[39m\u001b[38;5;124m\"\u001b[39m, nanops\u001b[38;5;241m.\u001b[39mnansum, axis, skipna, level, numeric_only, min_count, \u001b[38;5;241m*\u001b[39m\u001b[38;5;241m*\u001b[39mkwargs\n\u001b[0;32m  10448\u001b[0m     )\n",
      "File \u001b[1;32m~\\anaconda3\\envs\\PSC_bridge\\lib\\site-packages\\pandas\\core\\generic.py:10428\u001b[0m, in \u001b[0;36mNDFrame._min_count_stat_function\u001b[1;34m(self, name, func, axis, skipna, level, numeric_only, min_count, **kwargs)\u001b[0m\n\u001b[0;32m  10413\u001b[0m     warnings\u001b[38;5;241m.\u001b[39mwarn(\n\u001b[0;32m  10414\u001b[0m         \u001b[38;5;124m\"\u001b[39m\u001b[38;5;124mUsing the level keyword in DataFrame and Series aggregations is \u001b[39m\u001b[38;5;124m\"\u001b[39m\n\u001b[0;32m  10415\u001b[0m         \u001b[38;5;124m\"\u001b[39m\u001b[38;5;124mdeprecated and will be removed in a future version. Use groupby \u001b[39m\u001b[38;5;124m\"\u001b[39m\n\u001b[1;32m   (...)\u001b[0m\n\u001b[0;32m  10418\u001b[0m         stacklevel\u001b[38;5;241m=\u001b[39m\u001b[38;5;241m4\u001b[39m,\n\u001b[0;32m  10419\u001b[0m     )\n\u001b[0;32m  10420\u001b[0m     \u001b[38;5;28;01mreturn\u001b[39;00m \u001b[38;5;28mself\u001b[39m\u001b[38;5;241m.\u001b[39m_agg_by_level(\n\u001b[0;32m  10421\u001b[0m         name,\n\u001b[0;32m  10422\u001b[0m         axis\u001b[38;5;241m=\u001b[39maxis,\n\u001b[1;32m   (...)\u001b[0m\n\u001b[0;32m  10426\u001b[0m         numeric_only\u001b[38;5;241m=\u001b[39mnumeric_only,\n\u001b[0;32m  10427\u001b[0m     )\n\u001b[1;32m> 10428\u001b[0m \u001b[38;5;28;01mreturn\u001b[39;00m \u001b[38;5;28;43mself\u001b[39;49m\u001b[38;5;241;43m.\u001b[39;49m\u001b[43m_reduce\u001b[49m\u001b[43m(\u001b[49m\n\u001b[0;32m  10429\u001b[0m \u001b[43m    \u001b[49m\u001b[43mfunc\u001b[49m\u001b[43m,\u001b[49m\n\u001b[0;32m  10430\u001b[0m \u001b[43m    \u001b[49m\u001b[43mname\u001b[49m\u001b[38;5;241;43m=\u001b[39;49m\u001b[43mname\u001b[49m\u001b[43m,\u001b[49m\n\u001b[0;32m  10431\u001b[0m \u001b[43m    \u001b[49m\u001b[43maxis\u001b[49m\u001b[38;5;241;43m=\u001b[39;49m\u001b[43maxis\u001b[49m\u001b[43m,\u001b[49m\n\u001b[0;32m  10432\u001b[0m \u001b[43m    \u001b[49m\u001b[43mskipna\u001b[49m\u001b[38;5;241;43m=\u001b[39;49m\u001b[43mskipna\u001b[49m\u001b[43m,\u001b[49m\n\u001b[0;32m  10433\u001b[0m \u001b[43m    \u001b[49m\u001b[43mnumeric_only\u001b[49m\u001b[38;5;241;43m=\u001b[39;49m\u001b[43mnumeric_only\u001b[49m\u001b[43m,\u001b[49m\n\u001b[0;32m  10434\u001b[0m \u001b[43m    \u001b[49m\u001b[43mmin_count\u001b[49m\u001b[38;5;241;43m=\u001b[39;49m\u001b[43mmin_count\u001b[49m\u001b[43m,\u001b[49m\n\u001b[0;32m  10435\u001b[0m \u001b[43m\u001b[49m\u001b[43m)\u001b[49m\n",
      "File \u001b[1;32m~\\anaconda3\\envs\\PSC_bridge\\lib\\site-packages\\pandas\\core\\frame.py:9851\u001b[0m, in \u001b[0;36mDataFrame._reduce\u001b[1;34m(self, op, name, axis, skipna, numeric_only, filter_type, **kwds)\u001b[0m\n\u001b[0;32m   9847\u001b[0m ignore_failures \u001b[38;5;241m=\u001b[39m numeric_only \u001b[38;5;129;01mis\u001b[39;00m \u001b[38;5;28;01mNone\u001b[39;00m\n\u001b[0;32m   9849\u001b[0m \u001b[38;5;66;03m# After possibly _get_data and transposing, we are now in the\u001b[39;00m\n\u001b[0;32m   9850\u001b[0m \u001b[38;5;66;03m#  simple case where we can use BlockManager.reduce\u001b[39;00m\n\u001b[1;32m-> 9851\u001b[0m res, _ \u001b[38;5;241m=\u001b[39m \u001b[43mdf\u001b[49m\u001b[38;5;241;43m.\u001b[39;49m\u001b[43m_mgr\u001b[49m\u001b[38;5;241;43m.\u001b[39;49m\u001b[43mreduce\u001b[49m\u001b[43m(\u001b[49m\u001b[43mblk_func\u001b[49m\u001b[43m,\u001b[49m\u001b[43m \u001b[49m\u001b[43mignore_failures\u001b[49m\u001b[38;5;241;43m=\u001b[39;49m\u001b[43mignore_failures\u001b[49m\u001b[43m)\u001b[49m\n\u001b[0;32m   9852\u001b[0m out \u001b[38;5;241m=\u001b[39m df\u001b[38;5;241m.\u001b[39m_constructor(res)\u001b[38;5;241m.\u001b[39miloc[\u001b[38;5;241m0\u001b[39m]\n\u001b[0;32m   9853\u001b[0m \u001b[38;5;28;01mif\u001b[39;00m out_dtype \u001b[38;5;129;01mis\u001b[39;00m \u001b[38;5;129;01mnot\u001b[39;00m \u001b[38;5;28;01mNone\u001b[39;00m:\n",
      "File \u001b[1;32m~\\anaconda3\\envs\\PSC_bridge\\lib\\site-packages\\pandas\\core\\internals\\managers.py:1290\u001b[0m, in \u001b[0;36mBlockManager.reduce\u001b[1;34m(self, func, ignore_failures)\u001b[0m\n\u001b[0;32m   1288\u001b[0m \u001b[38;5;28;01mif\u001b[39;00m res_blocks:\n\u001b[0;32m   1289\u001b[0m     indexer \u001b[38;5;241m=\u001b[39m np\u001b[38;5;241m.\u001b[39mconcatenate([blk\u001b[38;5;241m.\u001b[39mmgr_locs\u001b[38;5;241m.\u001b[39mas_array \u001b[38;5;28;01mfor\u001b[39;00m blk \u001b[38;5;129;01min\u001b[39;00m res_blocks])\n\u001b[1;32m-> 1290\u001b[0m     new_mgr \u001b[38;5;241m=\u001b[39m \u001b[38;5;28;43mself\u001b[39;49m\u001b[38;5;241;43m.\u001b[39;49m\u001b[43m_combine\u001b[49m\u001b[43m(\u001b[49m\u001b[43mres_blocks\u001b[49m\u001b[43m,\u001b[49m\u001b[43m \u001b[49m\u001b[43mcopy\u001b[49m\u001b[38;5;241;43m=\u001b[39;49m\u001b[38;5;28;43;01mFalse\u001b[39;49;00m\u001b[43m,\u001b[49m\u001b[43m \u001b[49m\u001b[43mindex\u001b[49m\u001b[38;5;241;43m=\u001b[39;49m\u001b[43mindex\u001b[49m\u001b[43m)\u001b[49m\n\u001b[0;32m   1291\u001b[0m \u001b[38;5;28;01melse\u001b[39;00m:\n\u001b[0;32m   1292\u001b[0m     indexer \u001b[38;5;241m=\u001b[39m []\n",
      "File \u001b[1;32m~\\anaconda3\\envs\\PSC_bridge\\lib\\site-packages\\pandas\\core\\internals\\managers.py:554\u001b[0m, in \u001b[0;36mBaseBlockManager._combine\u001b[1;34m(self, blocks, copy, index)\u001b[0m\n\u001b[0;32m    551\u001b[0m     \u001b[38;5;28;01mreturn\u001b[39;00m \u001b[38;5;28mself\u001b[39m\u001b[38;5;241m.\u001b[39mmake_empty()\n\u001b[0;32m    553\u001b[0m \u001b[38;5;66;03m# FIXME: optimization potential\u001b[39;00m\n\u001b[1;32m--> 554\u001b[0m indexer \u001b[38;5;241m=\u001b[39m \u001b[43mnp\u001b[49m\u001b[38;5;241;43m.\u001b[39;49m\u001b[43msort\u001b[49m\u001b[43m(\u001b[49m\u001b[43mnp\u001b[49m\u001b[38;5;241;43m.\u001b[39;49m\u001b[43mconcatenate\u001b[49m\u001b[43m(\u001b[49m\u001b[43m[\u001b[49m\u001b[43mb\u001b[49m\u001b[38;5;241;43m.\u001b[39;49m\u001b[43mmgr_locs\u001b[49m\u001b[38;5;241;43m.\u001b[39;49m\u001b[43mas_array\u001b[49m\u001b[43m \u001b[49m\u001b[38;5;28;43;01mfor\u001b[39;49;00m\u001b[43m \u001b[49m\u001b[43mb\u001b[49m\u001b[43m \u001b[49m\u001b[38;5;129;43;01min\u001b[39;49;00m\u001b[43m \u001b[49m\u001b[43mblocks\u001b[49m\u001b[43m]\u001b[49m\u001b[43m)\u001b[49m\u001b[43m)\u001b[49m\n\u001b[0;32m    555\u001b[0m inv_indexer \u001b[38;5;241m=\u001b[39m lib\u001b[38;5;241m.\u001b[39mget_reverse_indexer(indexer, \u001b[38;5;28mself\u001b[39m\u001b[38;5;241m.\u001b[39mshape[\u001b[38;5;241m0\u001b[39m])\n\u001b[0;32m    557\u001b[0m new_blocks: \u001b[38;5;28mlist\u001b[39m[Block] \u001b[38;5;241m=\u001b[39m []\n",
      "File \u001b[1;32m<__array_function__ internals>:5\u001b[0m, in \u001b[0;36msort\u001b[1;34m(*args, **kwargs)\u001b[0m\n",
      "File \u001b[1;32m~\\anaconda3\\envs\\PSC_bridge\\lib\\site-packages\\numpy\\core\\fromnumeric.py:998\u001b[0m, in \u001b[0;36msort\u001b[1;34m(a, axis, kind, order)\u001b[0m\n\u001b[0;32m    996\u001b[0m \u001b[38;5;28;01melse\u001b[39;00m:\n\u001b[0;32m    997\u001b[0m     a \u001b[38;5;241m=\u001b[39m asanyarray(a)\u001b[38;5;241m.\u001b[39mcopy(order\u001b[38;5;241m=\u001b[39m\u001b[38;5;124m\"\u001b[39m\u001b[38;5;124mK\u001b[39m\u001b[38;5;124m\"\u001b[39m)\n\u001b[1;32m--> 998\u001b[0m \u001b[43ma\u001b[49m\u001b[38;5;241;43m.\u001b[39;49m\u001b[43msort\u001b[49m\u001b[43m(\u001b[49m\u001b[43maxis\u001b[49m\u001b[38;5;241;43m=\u001b[39;49m\u001b[43maxis\u001b[49m\u001b[43m,\u001b[49m\u001b[43m \u001b[49m\u001b[43mkind\u001b[49m\u001b[38;5;241;43m=\u001b[39;49m\u001b[43mkind\u001b[49m\u001b[43m,\u001b[49m\u001b[43m \u001b[49m\u001b[43morder\u001b[49m\u001b[38;5;241;43m=\u001b[39;49m\u001b[43morder\u001b[49m\u001b[43m)\u001b[49m\n\u001b[0;32m    999\u001b[0m \u001b[38;5;28;01mreturn\u001b[39;00m a\n",
      "\u001b[1;31mKeyboardInterrupt\u001b[0m: "
     ]
    }
   ],
   "source": [
    "i = 0 #for section[i]\n",
    "\n",
    "### cable layer\n",
    "cpx, cpy = zip(*sections[i].cableprop)\n",
    "\n",
    "cab_y = sorted(list(set(cpy)))\n",
    "cab_layer = [[y, cpy.count(y)] for y in cab_y]  #[[y of cable from bottom, no of cables]]\n",
    "\n",
    "### initial value of sum of comp moment and tensile moment\n",
    "sum_mc = 0\n",
    "sum_mt = 10\n",
    "\n",
    "### initial value of top and bottom strain\n",
    "etop = 0.0035\n",
    "ebot = e\n",
    "\n",
    "while abs(sum_mc - sum_mt) > 5 :\n",
    "    ### neutral axis\n",
    "    NA = na(etop, ebot, depth)\n",
    "    \n",
    "    ### dividing section to number of stripes\n",
    "    topslab1_b = sections[i].position[5][0]+sections[i].length[5] - (sections[i].position[4][0]) # total width upto cantiliver form top\n",
    "    topslab1_d = sections[i].height[4]\n",
    "    topslab1_pos = sections[i].position[4][1] + topslab1_d/2\n",
    "\n",
    "    topslab2_b = sections[i].length[0] + sections[i].length[1] + sections[i].length[2]\n",
    "    topslab2_d = sections[i].height[3] - sections[i].height[4]\n",
    "    topslab2_pos = topslab1_pos - (topslab1_d+topslab2_d)/2\n",
    "\n",
    "    stripes = [[topslab1_b, topslab1_d, topslab1_pos], [topslab2_b, topslab2_d, topslab2_pos]] #[[width, depth, pos]]\n",
    "\n",
    "    n = 10 #no of division\n",
    "    web_d = (depth - sections[i].height[3] - sections[i].height[2])/n #depth each stripes of web without top and bottom slab\n",
    "    web_b = sections[i].length[0]*2\n",
    "\n",
    "    for j in range(n):\n",
    "        stripe_pos = sections[i].position[3][1] - web_d/2 - j*web_d\n",
    "        stripes.append([web_b, web_d, stripe_pos])\n",
    "\n",
    "    botslab_b = topslab2_b\n",
    "    botslab_d = sections[i].height[2]\n",
    "    botslab_pos = sections[i].position[2][1] + botslab_d/2\n",
    "    stripes.append([botslab_b, botslab_d, botslab_pos])\n",
    "    \n",
    "    ### distance to top of stripes from bottom\n",
    "    int_dep = depth\n",
    "    dist = [int_dep] # list of distance to top of stripes from bottom\n",
    "    for j in stripes:\n",
    "        dep = round(int_dep-j[1], 5)\n",
    "        dist.append(dep)\n",
    "        int_dep = dep\n",
    "        \n",
    "    strn = [interpolate_e(etop, ebot, depth, i) for i in dist]\n",
    "    strs = [stress(i, fck) for i in strn]\n",
    "    \n",
    "    ### stress, area, force, moment of stripes in compression due of concrete\n",
    "    stripe_strs = [(strs[j]+strs[j+1])/2 for j in range(len(strs)-1)] #average stress of stripes\n",
    "    stripe_area = [j[0]*j[1] for j in stripes]\n",
    "    stripe_force = [stripe_strs[j]*stripe_area[j]*1000 for j in range(len(stripes))]\n",
    "    stripe_pos = [j[2] for j in stripes]\n",
    "    stripe_mom = [stripe_force[j]*(stripe_pos[j]-NA) for j in range(len(stripes))]\n",
    "\n",
    "    df_comp = pd.DataFrame([stripe_pos, stripe_strs, stripe_area, stripe_force, stripe_mom], index = ['Position', 'Stress', 'Area', 'Force', 'Moment'])\n",
    "#     display(df_comp.T)\n",
    "    \n",
    "    ### stress, area, force, moment of stripes in compression due of concrete\n",
    "    cab_pos = cab_y\n",
    "    cab_strn = [interpolate_e(etop, ebot, depth, j) for j in cab_pos]\n",
    "    cab_strs = [np.interp(x, st_st, tau_st) for x in cab_strn]\n",
    "    cab_area = [nos*art * n[1] for n in cab_layer]\n",
    "    cab_force = [cab_strs[j]*cab_area[j]/1000 for j in range(len(cab_layer))]\n",
    "    cab_mom = [cab_force[j]*(cab_pos[j]-NA) for j in range(len(cab_layer))]\n",
    "\n",
    "    df_tens = pd.DataFrame([cab_pos, cab_strs, cab_area, cab_force, cab_mom], index = ['Position', 'Stress', 'Area', 'Force', 'Moment'])\n",
    "    \n",
    "    \n",
    "    sum_mc = df_comp.T.sum()[-1]\n",
    "    sum_mt = df_tens.T.sum()[-1]\n",
    "    \n",
    "    ebot = ebot - 0.00001"
   ]
  },
  {
   "cell_type": "code",
   "execution_count": 113,
   "id": "b820fd33",
   "metadata": {},
   "outputs": [
    {
     "data": {
      "text/plain": [
       "90676.88229328545"
      ]
     },
     "execution_count": 113,
     "metadata": {},
     "output_type": "execute_result"
    }
   ],
   "source": [
    "df_tens.T.sum()[-1]"
   ]
  },
  {
   "cell_type": "code",
   "execution_count": null,
   "id": "2b6c9a98",
   "metadata": {},
   "outputs": [],
   "source": []
  }
 ],
 "metadata": {
  "kernelspec": {
   "display_name": "Python 3 (ipykernel)",
   "language": "python",
   "name": "python3"
  },
  "language_info": {
   "codemirror_mode": {
    "name": "ipython",
    "version": 3
   },
   "file_extension": ".py",
   "mimetype": "text/x-python",
   "name": "python",
   "nbconvert_exporter": "python",
   "pygments_lexer": "ipython3",
   "version": "3.9.7"
  }
 },
 "nbformat": 4,
 "nbformat_minor": 5
}
